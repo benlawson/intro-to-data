{
 "cells": [
  {
   "cell_type": "markdown",
   "metadata": {},
   "source": [
    "To start sampling America by the county, we need to generate some data points (latitude and longitude pairs) to use. In this notebook, we generate a list of latitutes and longitudes using the Latin Square technique. We am given a latitude and longitude in the center of each county and the total square area of each county from the Gazetter Dataset which you can download <a href=\n",
    "'http://people.bu.edu/balawson/csv/congress.csv'>here</a>.I use the Latin Square technique to randomally sample the county. I use PyDOE to implement this and you can read more about Python Design Of Experiments here: http://pythonhosted.org/pyDOE/randomized.html. I'll be using Pandas to manage data. "
   ]
  },
  {
   "cell_type": "code",
   "execution_count": 1,
   "metadata": {
    "collapsed": false
   },
   "outputs": [],
   "source": [
    "import pandas as pd\n",
    "import random\n",
    "from pyDOE import *\n",
    "import math"
   ]
  },
  {
   "cell_type": "markdown",
   "metadata": {},
   "source": [
    "Here's the link to Wikipedia's page on Latin Hypercube sampling. In an oversimplified way, I link to think of it as \"Sudoku\" for sampling - every row and column has exactly one sample (at least in orthogonal latin sampling) Orthogonal latin square sampling is not implemented in PyDOE, so I don't use it. (https://en.wikipedia.org/wiki/Latin_hypercube_sampling) I want numbers that will modify a given latitude and longitude such that the new point is somewhere within a boundary surrounding the given point. "
   ]
  },
  {
   "cell_type": "code",
   "execution_count": 2,
   "metadata": {
    "collapsed": false
   },
   "outputs": [
    {
     "data": {
      "text/html": [
       "<div style=\"max-height:1000px;max-width:1500px;overflow:auto;\">\n",
       "<table border=\"1\" class=\"dataframe\">\n",
       "  <thead>\n",
       "    <tr style=\"text-align: right;\">\n",
       "      <th></th>\n",
       "      <th>GEOID</th>\n",
       "      <th>ANSICODE</th>\n",
       "      <th>NAME</th>\n",
       "      <th>ALAND</th>\n",
       "      <th>AWATER</th>\n",
       "      <th>ALAND_SQMI</th>\n",
       "      <th>AWATER_SQMI</th>\n",
       "      <th>INTPTLAT</th>\n",
       "      <th>INTPTLONG                                                                                                               </th>\n",
       "    </tr>\n",
       "    <tr>\n",
       "      <th>GEOID</th>\n",
       "      <th></th>\n",
       "      <th></th>\n",
       "      <th></th>\n",
       "      <th></th>\n",
       "      <th></th>\n",
       "      <th></th>\n",
       "      <th></th>\n",
       "      <th></th>\n",
       "      <th></th>\n",
       "    </tr>\n",
       "  </thead>\n",
       "  <tbody>\n",
       "    <tr>\n",
       "      <th>1001</th>\n",
       "      <td> 1001</td>\n",
       "      <td> 161526</td>\n",
       "      <td> Autauga County</td>\n",
       "      <td> 1539584444</td>\n",
       "      <td> 25773561</td>\n",
       "      <td> 594.437</td>\n",
       "      <td> 9.951</td>\n",
       "      <td> 32.53216</td>\n",
       "      <td>-86.646469</td>\n",
       "    </tr>\n",
       "  </tbody>\n",
       "</table>\n",
       "</div>"
      ],
      "text/plain": [
       "       GEOID  ANSICODE            NAME       ALAND    AWATER  ALAND_SQMI  \\\n",
       "GEOID                                                                      \n",
       "1001    1001    161526  Autauga County  1539584444  25773561     594.437   \n",
       "\n",
       "       AWATER_SQMI  INTPTLAT  \\\n",
       "GEOID                          \n",
       "1001         9.951  32.53216   \n",
       "\n",
       "       INTPTLONG                                                                                                                 \n",
       "GEOID                                                                                                                            \n",
       "1001                                          -86.646469                                                                         "
      ]
     },
     "execution_count": 2,
     "metadata": {},
     "output_type": "execute_result"
    }
   ],
   "source": [
    "#orginal data source: https://www.census.gov/geo/maps-data/data/gazetteer2014.html\n",
    "df = pd.DataFrame.from_csv(\"csv/congress.csv\")\n",
    "df.index = df.GEOID #because current index is just state abbreviation \n",
    "#grab the first row and look at it - what info do we want to grab? ALAND, INTPTLAT, and INTPTLONG\n",
    "df.iloc[0:1]"
   ]
  },
  {
   "cell_type": "code",
   "execution_count": 3,
   "metadata": {
    "collapsed": false
   },
   "outputs": [
    {
     "data": {
      "text/plain": [
       "array([[ 0.525,  0.375],\n",
       "       [ 0.325,  0.525],\n",
       "       [ 0.875,  0.225],\n",
       "       [ 0.675,  0.825],\n",
       "       [ 0.075,  0.275],\n",
       "       [ 0.825,  0.425],\n",
       "       [ 0.225,  0.875],\n",
       "       [ 0.425,  0.675],\n",
       "       [ 0.625,  0.725],\n",
       "       [ 0.125,  0.025],\n",
       "       [ 0.975,  0.075],\n",
       "       [ 0.025,  0.775],\n",
       "       [ 0.725,  0.475],\n",
       "       [ 0.775,  0.325],\n",
       "       [ 0.275,  0.575],\n",
       "       [ 0.175,  0.925],\n",
       "       [ 0.475,  0.175],\n",
       "       [ 0.575,  0.975],\n",
       "       [ 0.925,  0.125],\n",
       "       [ 0.375,  0.625]])"
      ]
     },
     "execution_count": 3,
     "metadata": {},
     "output_type": "execute_result"
    }
   ],
   "source": [
    "a = lhs(2, samples=20, criterion='center')\n",
    "a"
   ]
  },
  {
   "cell_type": "code",
   "execution_count": 4,
   "metadata": {
    "collapsed": false
   },
   "outputs": [
    {
     "data": {
      "text/plain": [
       "array([[ 0.05, -0.25],\n",
       "       [-0.35,  0.05],\n",
       "       [ 0.75, -0.55],\n",
       "       [ 0.35,  0.65],\n",
       "       [-0.85, -0.45],\n",
       "       [ 0.65, -0.15],\n",
       "       [-0.55,  0.75],\n",
       "       [-0.15,  0.35],\n",
       "       [ 0.25,  0.45],\n",
       "       [-0.75, -0.95],\n",
       "       [ 0.95, -0.85],\n",
       "       [-0.95,  0.55],\n",
       "       [ 0.45, -0.05],\n",
       "       [ 0.55, -0.35],\n",
       "       [-0.45,  0.15],\n",
       "       [-0.65,  0.85],\n",
       "       [-0.05, -0.65],\n",
       "       [ 0.15,  0.95],\n",
       "       [ 0.85, -0.75],\n",
       "       [-0.25,  0.25]])"
      ]
     },
     "execution_count": 4,
     "metadata": {},
     "output_type": "execute_result"
    }
   ],
   "source": [
    "#renormalize values between -1 and 1 in order to plot on all four quadrants\n",
    "b = (a-0.5)*2\n",
    "b"
   ]
  },
  {
   "cell_type": "code",
   "execution_count": 5,
   "metadata": {
    "collapsed": false
   },
   "outputs": [],
   "source": [
    "#http://gis.stackexchange.com/questions/2951/algorithm-for-offsetting-a-latitude-longitude-by-some-amount-of-meters\n",
    "def meters_to_degs(x, y):\n",
    "    #takes meters in the x- and y-directions\n",
    "    #returns a tuple changes in degree\n",
    "    #this method is refered to as 'quick and dirty' and not suggested for life-dependent applications or long distances\n",
    "    return ((y/111111.0), x/(111111 * math.cos(y)))"
   ]
  },
  {
   "cell_type": "code",
   "execution_count": 6,
   "metadata": {
    "collapsed": false
   },
   "outputs": [],
   "source": [
    "def get_max_distances(land_area):\n",
    "    #assuming counties are square (smaller area than circle - less points near or outside boundary)\n",
    "    side = math.sqrt(land_area)\n",
    "    r = side/2\n",
    "    return r"
   ]
  },
  {
   "cell_type": "code",
   "execution_count": 7,
   "metadata": {
    "collapsed": false
   },
   "outputs": [],
   "source": [
    "def get_max_distances_circle(land_area):\n",
    "    #assuming counties are circles (which they are not, but shapes are hard)\n",
    "    r_2 = land_area/math.pi\n",
    "    r = math.sqrt(r_2)\n",
    "    return r"
   ]
  },
  {
   "cell_type": "code",
   "execution_count": 8,
   "metadata": {
    "collapsed": false
   },
   "outputs": [],
   "source": [
    "def get_degree_ranges(land_area):\n",
    "    d = get_max_distances(land_area)\n",
    "    return (meters_to_degs(d, d))"
   ]
  },
  {
   "cell_type": "code",
   "execution_count": 12,
   "metadata": {
    "collapsed": false
   },
   "outputs": [
    {
     "data": {
      "text/plain": [
       "(0.17656910076302565, -0.1987309136349029)"
      ]
     },
     "execution_count": 12,
     "metadata": {},
     "output_type": "execute_result"
    }
   ],
   "source": [
    "#let's test the functions I wrote using the first entry in the csv\n",
    "x = df.iloc[0:1].ALAND\n",
    "al = get_degree_ranges(x)\n",
    "al"
   ]
  },
  {
   "cell_type": "markdown",
   "metadata": {},
   "source": [
    "The general idea here is to find the maxium distance from the center in the x and y direction and then find random samples within that boundary. Since counties are irregular in shape we will have to do some cleaning."
   ]
  },
  {
   "cell_type": "code",
   "execution_count": 13,
   "metadata": {
    "collapsed": false
   },
   "outputs": [
    {
     "ename": "KeyError",
     "evalue": "'INTPTLONG'",
     "output_type": "error",
     "traceback": [
      "\u001b[1;31m---------------------------------------------------------------------------\u001b[0m",
      "\u001b[1;31mKeyError\u001b[0m                                  Traceback (most recent call last)",
      "\u001b[1;32m<ipython-input-13-d7f28e5444da>\u001b[0m in \u001b[0;36m<module>\u001b[1;34m()\u001b[0m\n\u001b[0;32m      1\u001b[0m \u001b[1;31m#let's try to look at the info that's interesting at the moment (1001 corresponds to the first GEOID/index value)\u001b[0m\u001b[1;33m\u001b[0m\u001b[1;33m\u001b[0m\u001b[0m\n\u001b[1;32m----> 2\u001b[1;33m \u001b[0mdf\u001b[0m\u001b[1;33m[\u001b[0m\u001b[1;34m\"INTPTLONG\"\u001b[0m\u001b[1;33m]\u001b[0m\u001b[1;33m[\u001b[0m\u001b[1;36m1001\u001b[0m\u001b[1;33m]\u001b[0m\u001b[1;33m\u001b[0m\u001b[0m\n\u001b[0m",
      "\u001b[1;32mC:\\Users\\Ben\\Anaconda\\lib\\site-packages\\pandas\\core\\frame.pyc\u001b[0m in \u001b[0;36m__getitem__\u001b[1;34m(self, key)\u001b[0m\n\u001b[0;32m   1676\u001b[0m             \u001b[1;32mreturn\u001b[0m \u001b[0mself\u001b[0m\u001b[1;33m.\u001b[0m\u001b[0m_getitem_multilevel\u001b[0m\u001b[1;33m(\u001b[0m\u001b[0mkey\u001b[0m\u001b[1;33m)\u001b[0m\u001b[1;33m\u001b[0m\u001b[0m\n\u001b[0;32m   1677\u001b[0m         \u001b[1;32melse\u001b[0m\u001b[1;33m:\u001b[0m\u001b[1;33m\u001b[0m\u001b[0m\n\u001b[1;32m-> 1678\u001b[1;33m             \u001b[1;32mreturn\u001b[0m \u001b[0mself\u001b[0m\u001b[1;33m.\u001b[0m\u001b[0m_getitem_column\u001b[0m\u001b[1;33m(\u001b[0m\u001b[0mkey\u001b[0m\u001b[1;33m)\u001b[0m\u001b[1;33m\u001b[0m\u001b[0m\n\u001b[0m\u001b[0;32m   1679\u001b[0m \u001b[1;33m\u001b[0m\u001b[0m\n\u001b[0;32m   1680\u001b[0m     \u001b[1;32mdef\u001b[0m \u001b[0m_getitem_column\u001b[0m\u001b[1;33m(\u001b[0m\u001b[0mself\u001b[0m\u001b[1;33m,\u001b[0m \u001b[0mkey\u001b[0m\u001b[1;33m)\u001b[0m\u001b[1;33m:\u001b[0m\u001b[1;33m\u001b[0m\u001b[0m\n",
      "\u001b[1;32mC:\\Users\\Ben\\Anaconda\\lib\\site-packages\\pandas\\core\\frame.pyc\u001b[0m in \u001b[0;36m_getitem_column\u001b[1;34m(self, key)\u001b[0m\n\u001b[0;32m   1683\u001b[0m         \u001b[1;31m# get column\u001b[0m\u001b[1;33m\u001b[0m\u001b[1;33m\u001b[0m\u001b[0m\n\u001b[0;32m   1684\u001b[0m         \u001b[1;32mif\u001b[0m \u001b[0mself\u001b[0m\u001b[1;33m.\u001b[0m\u001b[0mcolumns\u001b[0m\u001b[1;33m.\u001b[0m\u001b[0mis_unique\u001b[0m\u001b[1;33m:\u001b[0m\u001b[1;33m\u001b[0m\u001b[0m\n\u001b[1;32m-> 1685\u001b[1;33m             \u001b[1;32mreturn\u001b[0m \u001b[0mself\u001b[0m\u001b[1;33m.\u001b[0m\u001b[0m_get_item_cache\u001b[0m\u001b[1;33m(\u001b[0m\u001b[0mkey\u001b[0m\u001b[1;33m)\u001b[0m\u001b[1;33m\u001b[0m\u001b[0m\n\u001b[0m\u001b[0;32m   1686\u001b[0m \u001b[1;33m\u001b[0m\u001b[0m\n\u001b[0;32m   1687\u001b[0m         \u001b[1;31m# duplicate columns & possible reduce dimensionaility\u001b[0m\u001b[1;33m\u001b[0m\u001b[1;33m\u001b[0m\u001b[0m\n",
      "\u001b[1;32mC:\\Users\\Ben\\Anaconda\\lib\\site-packages\\pandas\\core\\generic.pyc\u001b[0m in \u001b[0;36m_get_item_cache\u001b[1;34m(self, item)\u001b[0m\n\u001b[0;32m   1050\u001b[0m         \u001b[0mres\u001b[0m \u001b[1;33m=\u001b[0m \u001b[0mcache\u001b[0m\u001b[1;33m.\u001b[0m\u001b[0mget\u001b[0m\u001b[1;33m(\u001b[0m\u001b[0mitem\u001b[0m\u001b[1;33m)\u001b[0m\u001b[1;33m\u001b[0m\u001b[0m\n\u001b[0;32m   1051\u001b[0m         \u001b[1;32mif\u001b[0m \u001b[0mres\u001b[0m \u001b[1;32mis\u001b[0m \u001b[0mNone\u001b[0m\u001b[1;33m:\u001b[0m\u001b[1;33m\u001b[0m\u001b[0m\n\u001b[1;32m-> 1052\u001b[1;33m             \u001b[0mvalues\u001b[0m \u001b[1;33m=\u001b[0m \u001b[0mself\u001b[0m\u001b[1;33m.\u001b[0m\u001b[0m_data\u001b[0m\u001b[1;33m.\u001b[0m\u001b[0mget\u001b[0m\u001b[1;33m(\u001b[0m\u001b[0mitem\u001b[0m\u001b[1;33m)\u001b[0m\u001b[1;33m\u001b[0m\u001b[0m\n\u001b[0m\u001b[0;32m   1053\u001b[0m             \u001b[0mres\u001b[0m \u001b[1;33m=\u001b[0m \u001b[0mself\u001b[0m\u001b[1;33m.\u001b[0m\u001b[0m_box_item_values\u001b[0m\u001b[1;33m(\u001b[0m\u001b[0mitem\u001b[0m\u001b[1;33m,\u001b[0m \u001b[0mvalues\u001b[0m\u001b[1;33m)\u001b[0m\u001b[1;33m\u001b[0m\u001b[0m\n\u001b[0;32m   1054\u001b[0m             \u001b[0mcache\u001b[0m\u001b[1;33m[\u001b[0m\u001b[0mitem\u001b[0m\u001b[1;33m]\u001b[0m \u001b[1;33m=\u001b[0m \u001b[0mres\u001b[0m\u001b[1;33m\u001b[0m\u001b[0m\n",
      "\u001b[1;32mC:\\Users\\Ben\\Anaconda\\lib\\site-packages\\pandas\\core\\internals.pyc\u001b[0m in \u001b[0;36mget\u001b[1;34m(self, item, fastpath)\u001b[0m\n\u001b[0;32m   2563\u001b[0m \u001b[1;33m\u001b[0m\u001b[0m\n\u001b[0;32m   2564\u001b[0m             \u001b[1;32mif\u001b[0m \u001b[1;32mnot\u001b[0m \u001b[0misnull\u001b[0m\u001b[1;33m(\u001b[0m\u001b[0mitem\u001b[0m\u001b[1;33m)\u001b[0m\u001b[1;33m:\u001b[0m\u001b[1;33m\u001b[0m\u001b[0m\n\u001b[1;32m-> 2565\u001b[1;33m                 \u001b[0mloc\u001b[0m \u001b[1;33m=\u001b[0m \u001b[0mself\u001b[0m\u001b[1;33m.\u001b[0m\u001b[0mitems\u001b[0m\u001b[1;33m.\u001b[0m\u001b[0mget_loc\u001b[0m\u001b[1;33m(\u001b[0m\u001b[0mitem\u001b[0m\u001b[1;33m)\u001b[0m\u001b[1;33m\u001b[0m\u001b[0m\n\u001b[0m\u001b[0;32m   2566\u001b[0m             \u001b[1;32melse\u001b[0m\u001b[1;33m:\u001b[0m\u001b[1;33m\u001b[0m\u001b[0m\n\u001b[0;32m   2567\u001b[0m                 \u001b[0mindexer\u001b[0m \u001b[1;33m=\u001b[0m \u001b[0mnp\u001b[0m\u001b[1;33m.\u001b[0m\u001b[0marange\u001b[0m\u001b[1;33m(\u001b[0m\u001b[0mlen\u001b[0m\u001b[1;33m(\u001b[0m\u001b[0mself\u001b[0m\u001b[1;33m.\u001b[0m\u001b[0mitems\u001b[0m\u001b[1;33m)\u001b[0m\u001b[1;33m)\u001b[0m\u001b[1;33m[\u001b[0m\u001b[0misnull\u001b[0m\u001b[1;33m(\u001b[0m\u001b[0mself\u001b[0m\u001b[1;33m.\u001b[0m\u001b[0mitems\u001b[0m\u001b[1;33m)\u001b[0m\u001b[1;33m]\u001b[0m\u001b[1;33m\u001b[0m\u001b[0m\n",
      "\u001b[1;32mC:\\Users\\Ben\\Anaconda\\lib\\site-packages\\pandas\\core\\index.pyc\u001b[0m in \u001b[0;36mget_loc\u001b[1;34m(self, key)\u001b[0m\n\u001b[0;32m   1179\u001b[0m         \u001b[0mloc\u001b[0m \u001b[1;33m:\u001b[0m \u001b[0mint\u001b[0m \u001b[1;32mif\u001b[0m \u001b[0munique\u001b[0m \u001b[0mindex\u001b[0m\u001b[1;33m,\u001b[0m \u001b[0mpossibly\u001b[0m \u001b[0mslice\u001b[0m \u001b[1;32mor\u001b[0m \u001b[0mmask\u001b[0m \u001b[1;32mif\u001b[0m \u001b[1;32mnot\u001b[0m\u001b[1;33m\u001b[0m\u001b[0m\n\u001b[0;32m   1180\u001b[0m         \"\"\"\n\u001b[1;32m-> 1181\u001b[1;33m         \u001b[1;32mreturn\u001b[0m \u001b[0mself\u001b[0m\u001b[1;33m.\u001b[0m\u001b[0m_engine\u001b[0m\u001b[1;33m.\u001b[0m\u001b[0mget_loc\u001b[0m\u001b[1;33m(\u001b[0m\u001b[0m_values_from_object\u001b[0m\u001b[1;33m(\u001b[0m\u001b[0mkey\u001b[0m\u001b[1;33m)\u001b[0m\u001b[1;33m)\u001b[0m\u001b[1;33m\u001b[0m\u001b[0m\n\u001b[0m\u001b[0;32m   1182\u001b[0m \u001b[1;33m\u001b[0m\u001b[0m\n\u001b[0;32m   1183\u001b[0m     \u001b[1;32mdef\u001b[0m \u001b[0mget_value\u001b[0m\u001b[1;33m(\u001b[0m\u001b[0mself\u001b[0m\u001b[1;33m,\u001b[0m \u001b[0mseries\u001b[0m\u001b[1;33m,\u001b[0m \u001b[0mkey\u001b[0m\u001b[1;33m)\u001b[0m\u001b[1;33m:\u001b[0m\u001b[1;33m\u001b[0m\u001b[0m\n",
      "\u001b[1;32mindex.pyx\u001b[0m in \u001b[0;36mpandas.index.IndexEngine.get_loc (pandas\\index.c:3656)\u001b[1;34m()\u001b[0m\n",
      "\u001b[1;32mindex.pyx\u001b[0m in \u001b[0;36mpandas.index.IndexEngine.get_loc (pandas\\index.c:3534)\u001b[1;34m()\u001b[0m\n",
      "\u001b[1;32mhashtable.pyx\u001b[0m in \u001b[0;36mpandas.hashtable.PyObjectHashTable.get_item (pandas\\hashtable.c:11911)\u001b[1;34m()\u001b[0m\n",
      "\u001b[1;32mhashtable.pyx\u001b[0m in \u001b[0;36mpandas.hashtable.PyObjectHashTable.get_item (pandas\\hashtable.c:11864)\u001b[1;34m()\u001b[0m\n",
      "\u001b[1;31mKeyError\u001b[0m: 'INTPTLONG'"
     ]
    }
   ],
   "source": [
    "#let's try to look at the info that's interesting at the moment (1001 corresponds to the first GEOID/index value)\n",
    "df[\"INTPTLONG\"][1001]"
   ]
  },
  {
   "cell_type": "code",
   "execution_count": 14,
   "metadata": {
    "collapsed": false
   },
   "outputs": [
    {
     "data": {
      "text/plain": [
       "-86.646468999999996"
      ]
     },
     "execution_count": 14,
     "metadata": {},
     "output_type": "execute_result"
    }
   ],
   "source": [
    "#why the error message? try this one:\n",
    "df[\"INTPTLONG                                                                                                               \"][1001]"
   ]
  },
  {
   "cell_type": "code",
   "execution_count": 15,
   "metadata": {
    "collapsed": false
   },
   "outputs": [
    {
     "data": {
      "text/plain": [
       "-86.646468999999996"
      ]
     },
     "execution_count": 15,
     "metadata": {},
     "output_type": "execute_result"
    }
   ],
   "source": [
    "#quick fix\n",
    "df.columns = [x.strip() for x in df.columns]\n",
    "df[\"INTPTLONG\"][1001]"
   ]
  },
  {
   "cell_type": "code",
   "execution_count": 16,
   "metadata": {
    "collapsed": false
   },
   "outputs": [],
   "source": [
    "def sampler(row, val):\n",
    "    #row corresponds to one of the dataframe rows\n",
    "    #val is the row of the Latin Square that I will use for this sample\n",
    "    latin_square_coefficient = b[val]\n",
    "    multiplier = get_degree_ranges(row.ALAND)\n",
    "    center = [row.INTPTLAT, row.INTPTLONG]\n",
    "    return latin_square_coefficient*multiplier + center"
   ]
  },
  {
   "cell_type": "code",
   "execution_count": 17,
   "metadata": {
    "collapsed": false
   },
   "outputs": [],
   "source": [
    "latin_square_coefficient = lhs(2, samples=20, criterion='center')\n",
    "latin_square_coefficient = (latin_square_coefficient-0.5)*2"
   ]
  },
  {
   "cell_type": "markdown",
   "metadata": {},
   "source": [
    "Let's test out the sampling function using the first row of the dataframe."
   ]
  },
  {
   "cell_type": "code",
   "execution_count": 18,
   "metadata": {
    "collapsed": false
   },
   "outputs": [
    {
     "name": "stdout",
     "output_type": "stream",
     "text": [
      " 32.54098846 -86.59678627\n",
      " 32.47036081 -86.65640555\n",
      " 32.66458683 -86.537167  \n",
      " 32.59395919 -86.77564409\n",
      " 32.38207626 -86.55704009\n",
      " 32.64692992 -86.61665936\n",
      " 32.43504699 -86.79551719\n",
      " 32.50567463 -86.71602482\n",
      " 32.57630228 -86.73589791\n",
      " 32.39973317 -86.45767463\n",
      " 32.69990065 -86.47754772\n",
      " 32.36441935 -86.755771  \n",
      " 32.6116161  -86.63653245\n",
      " 32.62927301 -86.57691318\n",
      " 32.4527039  -86.67627864\n",
      " 32.41739008 -86.81539028\n",
      " 32.52333154 -86.51729391\n",
      " 32.55864537 -86.83526337\n",
      " 32.68224374 -86.49742081\n",
      " 32.48801772 -86.69615173\n"
     ]
    }
   ],
   "source": [
    "for x in xrange(20):\n",
    "    print str(sampler(df.loc[1001], x)).replace('[','').replace(']','')"
   ]
  },
  {
   "cell_type": "markdown",
   "metadata": {},
   "source": [
    "To get a general idea that this is working I use Mod-Rule (http://www.mob-rule.com/gmap) to plot a point and see if it falls in the right county. I then plotted a bunch using  (http://www.mapcustomizer.com/) to get a general idea. You can try coping and pasting the results above. Quick and dirty: to see if we are on the right track. Looks like a few points are out of the range, but for the most part usable. I'm going to generate samples for every county and save this in another dataframe. Then I'm going to remove the bad samples. <br>\n",
    "<img src='./img/sampling1.png' height=\"350\" width=\"350\" align='left'><img src=\"./img/sampling2.png\" height=\"350\" width=\"350\" align='right'>"
   ]
  },
  {
   "cell_type": "code",
   "execution_count": 17,
   "metadata": {
    "collapsed": false
   },
   "outputs": [],
   "source": [
    "samples = pd.DataFrame(columns=[x for x in range(0,20)])"
   ]
  },
  {
   "cell_type": "code",
   "execution_count": 18,
   "metadata": {
    "collapsed": false
   },
   "outputs": [],
   "source": [
    "for idx, row in df.iterrows():\n",
    "    for x in range(len(b)):\n",
    "        samples.loc[idx,x] = (sampler(row, x))"
   ]
  },
  {
   "cell_type": "code",
   "execution_count": 19,
   "metadata": {
    "collapsed": false
   },
   "outputs": [
    {
     "name": "stdout",
     "output_type": "stream",
     "text": [
      "<class 'pandas.core.frame.DataFrame'>\n",
      "Int64Index: 3142 entries, 1001 to 56045\n",
      "Data columns (total 20 columns):\n",
      "0     3142 non-null object\n",
      "1     3142 non-null object\n",
      "2     3142 non-null object\n",
      "3     3142 non-null object\n",
      "4     3142 non-null object\n",
      "5     3142 non-null object\n",
      "6     3142 non-null object\n",
      "7     3142 non-null object\n",
      "8     3142 non-null object\n",
      "9     3142 non-null object\n",
      "10    3142 non-null object\n",
      "11    3142 non-null object\n",
      "12    3142 non-null object\n",
      "13    3142 non-null object\n",
      "14    3142 non-null object\n",
      "15    3142 non-null object\n",
      "16    3142 non-null object\n",
      "17    3142 non-null object\n",
      "18    3142 non-null object\n",
      "19    3142 non-null object\n",
      "dtypes: object(20)"
     ]
    }
   ],
   "source": [
    "samples.info()"
   ]
  },
  {
   "cell_type": "code",
   "execution_count": 37,
   "metadata": {
    "collapsed": false
   },
   "outputs": [
    {
     "name": "stdout",
     "output_type": "stream",
     "text": [
      "[32.4527039,-86.67627864]\n",
      "[32.57630228,-86.79551719]\n",
      "[32.50567463,-86.69615173]\n",
      "[32.69990065,-86.57691318]\n",
      "[32.38207626,-86.61665936]\n",
      "[32.36441935,-86.73589791]\n",
      "[32.47036081,-86.77564409]\n",
      "[32.59395919,-86.59678627]\n",
      "[32.41739008,-86.81539028]\n",
      "[32.55864537,-86.51729391]\n",
      "[32.43504699,-86.63653245]\n",
      "[32.68224374,-86.71602482]\n",
      "[32.6116161,-86.537167]\n",
      "[32.64692992,-86.49742081]\n",
      "[32.66458683,-86.65640555]\n",
      "[32.52333154,-86.45767463]\n",
      "[32.54098846,-86.55704009]\n",
      "[32.39973317,-86.47754772]\n",
      "[32.62927301,-86.755771]\n",
      "[32.48801772,-86.83526337]\n"
     ]
    }
   ],
   "source": [
    "for x in samples.loc[1001]:\n",
    "    print str(x).replace('-',',-').replace(' ','')"
   ]
  },
  {
   "cell_type": "code",
   "execution_count": 21,
   "metadata": {
    "collapsed": false
   },
   "outputs": [],
   "source": [
    "samples.to_csv('csv/samples.csv')"
   ]
  },
  {
   "cell_type": "markdown",
   "metadata": {},
   "source": [
    "To check the accurarcy of the lat/lng and FIPS (the county code) assignment I'm using <a href=\"http://www.datasciencetoolkit.org/\"> Data Science Toolkit</a> and their dope \"Coordinates to Politics\" API. They are also super awesome and have an <a href=\"http://www.datasciencetoolkit.org/developerdocs#amazon\">AWS AMI (Amazon Web Service Amazon Machine Image)</a> so I can spin up my own EC2 instance with all their services - so I don't spam them to infinity. You can also download their entire server (via torrent or direct download). "
   ]
  },
  {
   "cell_type": "code",
   "execution_count": 31,
   "metadata": {
    "collapsed": false
   },
   "outputs": [],
   "source": [
    "#http://www.census.gov/popest/about/terms.html"
   ]
  },
  {
   "cell_type": "code",
   "execution_count": 32,
   "metadata": {
    "collapsed": false
   },
   "outputs": [
    {
     "data": {
      "text/html": [
       "<link href='http://fonts.googleapis.com/css?family=EB+Garamond' rel='stylesheet' type='text/css'>\n",
       "<link href='http://fonts.googleapis.com/css?family=Alegreya+Sans:100,300,400,500,700,800,900,100italic,300italic,400italic,500italic,700italic,800italic,900italic' rel='stylesheet' type='text/css'>\n",
       "<link href='http://fonts.googleapis.com/css?family=Source+Code+Pro:300,400' rel='stylesheet' type='text/css'>\n",
       "<style>\n",
       "    @font-face {\n",
       "        font-family: \"Computer Modern\";\n",
       "        src: url('http://mirrors.ctan.org/fonts/cm-unicode/fonts/otf/cmunss.otf');\n",
       "    }\n",
       "    .code_cell {\n",
       "        width: 105ex !important ;\n",
       "        margin-bottom: 15px !important;\n",
       "    }\n",
       "    div.cell {\n",
       "        margin-left: auto;\n",
       "        margin-right: auto;\n",
       "        width: 70%;\n",
       "    }    \n",
       "    div.cell.selected {\n",
       "        border: thin rgba(171, 171, 171, 0.5) dashed;\n",
       "    }\n",
       "    h1 {\n",
       "        font-family: 'Alegreya Sans', sans-serif;\n",
       "    }\n",
       "    h2 {\n",
       "        font-family: 'EB Garamond', serif;\n",
       "    }\n",
       "    h3 {\n",
       "        font-family: 'EB Garamond', serif;\n",
       "        margin-top:12px;\n",
       "        margin-bottom: 3px;\n",
       "    }\n",
       "    h4 {\n",
       "        font-family: 'EB Garamond', serif;\n",
       "    }\n",
       "    h5 {\n",
       "        font-family: 'Alegreya Sans', sans-serif;\n",
       "    }\n",
       "    div.text_cell_render {\n",
       "        font-family: 'EB Garamond',Computer Modern, \"Helvetica Neue\", Arial, Helvetica, Geneva, sans-serif;\n",
       "        line-height: 145%;\n",
       "        font-size: 140%;\n",
       "    }\n",
       "    div.input_area {\n",
       "        border-color: rgba(0,0,0,0.10) !important;\n",
       "        background: #fafafa;\n",
       "    }\n",
       "    .CodeMirror {\n",
       "            font-family: \"Source Code Pro\";\n",
       "            font-size: 90%;\n",
       "    }\n",
       "    .prompt {\n",
       "        display: None;\n",
       "    }\n",
       "    .output {\n",
       "        padding-left: 50px;\n",
       "        padding-top: 5px;\n",
       "    }\n",
       "    .output_wrapper {\n",
       "        padding-left: 5px;\n",
       "        padding-top: inherit;\n",
       "    }\n",
       "    div.output_scroll {\n",
       "        width: inherit;\n",
       "    }\n",
       "    .inner_cell {\n",
       "        padding-left: 5px;\n",
       "    }\n",
       "    .text_cell_render h1 {\n",
       "        font-weight: 200;\n",
       "        font-size: 50pt;\n",
       "        line-height: 100%;\n",
       "        color:#CD2305;\n",
       "        margin-bottom: 0.5em;\n",
       "        margin-top: 0.5em;\n",
       "        display: block;\n",
       "    }\n",
       "    .text_cell_render h5 {\n",
       "        font-weight: 300;\n",
       "        font-size: 16pt;\n",
       "        color: #CD2305;\n",
       "        font-style: italic;\n",
       "        margin-bottom: .5em;\n",
       "        margin-top: 0.5em;\n",
       "        display: block;\n",
       "    }\n",
       "    .warning {\n",
       "        color: rgb( 240, 20, 20 )\n",
       "        }  \n",
       "</style>\n",
       "<script>\n",
       "    MathJax.Hub.Config({\n",
       "                        TeX: {\n",
       "                           extensions: [\"AMSmath.js\"]\n",
       "                           },\n",
       "                tex2jax: {\n",
       "                    inlineMath: [ ['$','$'], [\"\\\\(\",\"\\\\)\"] ],\n",
       "                    displayMath: [ ['$$','$$'], [\"\\\\[\",\"\\\\]\"] ]\n",
       "                },\n",
       "                displayAlign: 'center', // Change this to 'center' to center equations.\n",
       "                \"HTML-CSS\": {\n",
       "                    styles: {'.MathJax_Display': {\"margin\": 4}}\n",
       "                }\n",
       "        });\n",
       "</script>"
      ],
      "text/plain": [
       "<IPython.core.display.HTML at 0xa4b86a0>"
      ]
     },
     "execution_count": 32,
     "metadata": {},
     "output_type": "execute_result"
    }
   ],
   "source": [
    "# Code for setting the style of the notebook\n",
    "\n",
    "from IPython.core.display import HTML\n",
    "def css_styling():\n",
    "    styles = open(\"./theme/custom.css\", \"r\").read()\n",
    "    return HTML(styles)\n",
    "css_styling()"
   ]
  }
 ],
 "metadata": {
  "kernelspec": {
   "display_name": "Python 2",
   "language": "python",
   "name": "python2"
  },
  "language_info": {
   "codemirror_mode": {
    "name": "ipython",
    "version": 2
   },
   "file_extension": ".py",
   "mimetype": "text/x-python",
   "name": "python",
   "nbconvert_exporter": "python",
   "pygments_lexer": "ipython2",
   "version": "2.7.8"
  }
 },
 "nbformat": 4,
 "nbformat_minor": 0
}
