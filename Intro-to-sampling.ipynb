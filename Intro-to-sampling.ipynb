{
 "cells": [
  {
   "cell_type": "markdown",
   "metadata": {},
   "source": [
    "To start sampling America by the county, we need to generate some data points (latitude and longitude pairs) to use. In this notebook, we generate a list of latitutes and longitudes using the Latin Square technique. We am given a latitude and longitude in the center of each county and the total square area of each county from the Gazetter Dataset which you can download <a href=\n",
    "'http://people.bu.edu/balawson/csv/congress.csv'>here</a>.I use the Latin Square technique to randomally sample the county. I use PyDOE to implement this and you can read more about Python Design Of Experiments [here](http://pythonhosted.org/pyDOE/randomized.html). I'll be using Pandas to manage data. "
   ]
  },
  {
   "cell_type": "code",
   "execution_count": 2,
   "metadata": {
    "collapsed": false
   },
   "outputs": [],
   "source": [
    "import pandas as pd\n",
    "import random\n",
    "from pyDOE import *\n",
    "import math\n",
    "import matplotlib.pyplot as plt\n",
    "%matplotlib inline"
   ]
  },
  {
   "cell_type": "markdown",
   "metadata": {},
   "source": [
    "Here's the link to Wikipedia's page on [Latin Hypercube sampling](https://en.wikipedia.org/wiki/Latin_hypercube_sampling). In an oversimplified way, I like to think of it as \"Sudoku\"- every row and column has exactly one sample (at least in orthogonal latin sampling). I would like to use orthogonal latin square sampling, but this isn't implemented (yet) in the pyDOE library. This would be a great open source project if you are looking for one. We will be using the general latin cube sampling to randomally sample points in a county. The output of this algorithm will be values between [0-1] that we can use a ratios away from the center of the county."
   ]
  },
  {
   "cell_type": "code",
   "execution_count": 9,
   "metadata": {
    "collapsed": false
   },
   "outputs": [
    {
     "data": {
      "text/plain": [
       "array([[ 0.75,  0.55,  0.55],\n",
       "       [ 0.45,  0.45,  0.25],\n",
       "       [ 0.15,  0.65,  0.05],\n",
       "       [ 0.55,  0.35,  0.35],\n",
       "       [ 0.35,  0.85,  0.85],\n",
       "       [ 0.85,  0.95,  0.95],\n",
       "       [ 0.95,  0.05,  0.15],\n",
       "       [ 0.05,  0.15,  0.45],\n",
       "       [ 0.65,  0.75,  0.65],\n",
       "       [ 0.25,  0.25,  0.75]])"
      ]
     },
     "execution_count": 9,
     "metadata": {},
     "output_type": "execute_result"
    }
   ],
   "source": [
    "cube = lhs(3, samples=10, criterion='center')\n",
    "cube"
   ]
  },
  {
   "cell_type": "code",
   "execution_count": 11,
   "metadata": {
    "collapsed": false
   },
   "outputs": [
    {
     "data": {
      "image/png": "[encoded data removed]",
      "text/plain": [
       "<matplotlib.figure.Figure at 0x168d9da0>"
      ]
     },
     "metadata": {},
     "output_type": "display_data"
    }
   ],
   "source": [
    "from mpl_toolkits.mplot3d import Axes3D\n",
    "\n",
    "fig = plt.figure()\n",
    "ax = fig.add_subplot(111, projection='3d')\n",
    "for sample in cube:\n",
    "    xs, ys, zs = sample\n",
    "    ax.scatter(xs, ys, zs)\n",
    "plt.show()"
   ]
  },
  {
   "cell_type": "code",
   "execution_count": 4,
   "metadata": {
    "collapsed": false
   },
   "outputs": [
    {
     "data": {
      "text/plain": [
       "array([[ 0.75      ,  0.58333333],\n",
       "       [ 0.15      ,  0.11666667],\n",
       "       [ 0.71666667,  0.61666667],\n",
       "       [ 0.45      ,  0.35      ],\n",
       "       [ 0.51666667,  0.78333333],\n",
       "       [ 0.28333333,  0.85      ],\n",
       "       [ 0.48333333,  0.98333333],\n",
       "       [ 0.11666667,  0.18333333],\n",
       "       [ 0.01666667,  0.68333333],\n",
       "       [ 0.31666667,  0.81666667],\n",
       "       [ 0.61666667,  0.65      ],\n",
       "       [ 0.85      ,  0.95      ],\n",
       "       [ 0.35      ,  0.75      ],\n",
       "       [ 0.05      ,  0.88333333],\n",
       "       [ 0.78333333,  0.31666667],\n",
       "       [ 0.95      ,  0.51666667],\n",
       "       [ 0.88333333,  0.25      ],\n",
       "       [ 0.91666667,  0.15      ],\n",
       "       [ 0.55      ,  0.21666667],\n",
       "       [ 0.58333333,  0.45      ],\n",
       "       [ 0.41666667,  0.01666667],\n",
       "       [ 0.18333333,  0.28333333],\n",
       "       [ 0.38333333,  0.48333333],\n",
       "       [ 0.98333333,  0.08333333],\n",
       "       [ 0.81666667,  0.05      ],\n",
       "       [ 0.25      ,  0.41666667],\n",
       "       [ 0.65      ,  0.91666667],\n",
       "       [ 0.08333333,  0.71666667],\n",
       "       [ 0.21666667,  0.55      ],\n",
       "       [ 0.68333333,  0.38333333]])"
      ]
     },
     "execution_count": 4,
     "metadata": {},
     "output_type": "execute_result"
    }
   ],
   "source": [
    "a = lhs(2, samples=30, criterion='center')\n",
    "a"
   ]
  },
  {
   "cell_type": "code",
   "execution_count": 69,
   "metadata": {
    "collapsed": false
   },
   "outputs": [
    {
     "data": {
      "image/png": "[encoded data removed]",
      "text/plain": [
       "<matplotlib.figure.Figure at 0x182e6c50>"
      ]
     },
     "metadata": {},
     "output_type": "display_data"
    }
   ],
   "source": [
    "plt.plot(zip(*a)[0], zip(*a)[1], 'ro')\n",
    "plt.plot([0, 0], [-1,1], 'k-', lw=2)\n",
    "plt.plot([-1, 1], [0,0], 'k-', lw=2)\n",
    "plt.show()"
   ]
  },
  {
   "cell_type": "code",
   "execution_count": 5,
   "metadata": {
    "collapsed": false
   },
   "outputs": [
    {
     "data": {
      "text/plain": [
       "array([[ 0.5       ,  0.16666667],\n",
       "       [-0.7       , -0.76666667],\n",
       "       [ 0.43333333,  0.23333333],\n",
       "       [-0.1       , -0.3       ],\n",
       "       [ 0.03333333,  0.56666667],\n",
       "       [-0.43333333,  0.7       ],\n",
       "       [-0.03333333,  0.96666667],\n",
       "       [-0.76666667, -0.63333333],\n",
       "       [-0.96666667,  0.36666667],\n",
       "       [-0.36666667,  0.63333333],\n",
       "       [ 0.23333333,  0.3       ],\n",
       "       [ 0.7       ,  0.9       ],\n",
       "       [-0.3       ,  0.5       ],\n",
       "       [-0.9       ,  0.76666667],\n",
       "       [ 0.56666667, -0.36666667],\n",
       "       [ 0.9       ,  0.03333333],\n",
       "       [ 0.76666667, -0.5       ],\n",
       "       [ 0.83333333, -0.7       ],\n",
       "       [ 0.1       , -0.56666667],\n",
       "       [ 0.16666667, -0.1       ],\n",
       "       [-0.16666667, -0.96666667],\n",
       "       [-0.63333333, -0.43333333],\n",
       "       [-0.23333333, -0.03333333],\n",
       "       [ 0.96666667, -0.83333333],\n",
       "       [ 0.63333333, -0.9       ],\n",
       "       [-0.5       , -0.16666667],\n",
       "       [ 0.3       ,  0.83333333],\n",
       "       [-0.83333333,  0.43333333],\n",
       "       [-0.56666667,  0.1       ],\n",
       "       [ 0.36666667, -0.23333333]])"
      ]
     },
     "execution_count": 5,
     "metadata": {},
     "output_type": "execute_result"
    }
   ],
   "source": [
    "#renormalize values between -1 and 1 in order to plot on all four quadrants\n",
    "b = (a-0.5)*2\n",
    "b"
   ]
  },
  {
   "cell_type": "code",
   "execution_count": 68,
   "metadata": {
    "collapsed": false
   },
   "outputs": [
    {
     "data": {
      "image/png": "[encoded data removed]",
      "text/plain": [
       "<matplotlib.figure.Figure at 0x18015550>"
      ]
     },
     "metadata": {},
     "output_type": "display_data"
    }
   ],
   "source": [
    "plt.plot(zip(*b)[0], zip(*b)[1], 'bo')\n",
    "plt.plot([0, 0], [-1,1], 'k-', lw=2)\n",
    "plt.plot([-1, 1], [0,0], 'k-', lw=2)\n",
    "plt.show()"
   ]
  },
  {
   "cell_type": "code",
   "execution_count": 3,
   "metadata": {
    "collapsed": false
   },
   "outputs": [
    {
     "data": {
      "text/html": [
       "<div>\n",
       "<table border=\"1\" class=\"dataframe\">\n",
       "  <thead>\n",
       "    <tr style=\"text-align: right;\">\n",
       "      <th></th>\n",
       "      <th>GEOID</th>\n",
       "      <th>ANSICODE</th>\n",
       "      <th>NAME</th>\n",
       "      <th>ALAND</th>\n",
       "      <th>AWATER</th>\n",
       "      <th>ALAND_SQMI</th>\n",
       "      <th>AWATER_SQMI</th>\n",
       "      <th>INTPTLAT</th>\n",
       "      <th>INTPTLONG</th>\n",
       "      <th>states</th>\n",
       "    </tr>\n",
       "    <tr>\n",
       "      <th>GEOID</th>\n",
       "      <th></th>\n",
       "      <th></th>\n",
       "      <th></th>\n",
       "      <th></th>\n",
       "      <th></th>\n",
       "      <th></th>\n",
       "      <th></th>\n",
       "      <th></th>\n",
       "      <th></th>\n",
       "      <th></th>\n",
       "    </tr>\n",
       "  </thead>\n",
       "  <tbody>\n",
       "    <tr>\n",
       "      <th>1001</th>\n",
       "      <td>1001</td>\n",
       "      <td>161526</td>\n",
       "      <td>Autauga County</td>\n",
       "      <td>1539584444</td>\n",
       "      <td>25773561</td>\n",
       "      <td>594.437</td>\n",
       "      <td>9.951</td>\n",
       "      <td>32.53216</td>\n",
       "      <td>-86.646469</td>\n",
       "      <td>AL</td>\n",
       "    </tr>\n",
       "  </tbody>\n",
       "</table>\n",
       "</div>"
      ],
      "text/plain": [
       "       GEOID  ANSICODE            NAME       ALAND    AWATER  ALAND_SQMI  \\\n",
       "GEOID                                                                      \n",
       "1001    1001    161526  Autauga County  1539584444  25773561     594.437   \n",
       "\n",
       "       AWATER_SQMI  INTPTLAT  \\\n",
       "GEOID                          \n",
       "1001         9.951  32.53216   \n",
       "\n",
       "       INTPTLONG                                                                                                                 \\\n",
       "GEOID                                                                                                                             \n",
       "1001                                          -86.646469                                                                          \n",
       "\n",
       "      states  \n",
       "GEOID         \n",
       "1001      AL  "
      ]
     },
     "execution_count": 3,
     "metadata": {},
     "output_type": "execute_result"
    }
   ],
   "source": [
    "#orginal data source: https://www.census.gov/geo/maps-data/data/gazetteer2014.html\n",
    "df = pd.DataFrame.from_csv(\"csv/congress.csv\")\n",
    "states = df.index\n",
    "df.index = df.GEOID #because current index is just state abbreviation \n",
    "df['states'] = states\n",
    "#grab the first row and look at it - what info do we want to grab? ALAND, INTPTLAT, and INTPTLONG\n",
    "df.iloc[0:1]"
   ]
  },
  {
   "cell_type": "code",
   "execution_count": 6,
   "metadata": {
    "collapsed": false
   },
   "outputs": [],
   "source": [
    "#http://gis.stackexchange.com/questions/2951/algorithm-for-offsetting-a-latitude-longitude-by-some-amount-of-meters\n",
    "def meters_to_degs(x, y):\n",
    "    #takes meters in the x- and y-directions\n",
    "    #returns a tuple changes in degree\n",
    "    #this method is refered to as 'quick and dirty' and not suggested for life-dependent applications or long distances\n",
    "    return ((y/111111.0), x/(111111 * math.cos(y)))"
   ]
  },
  {
   "cell_type": "code",
   "execution_count": 7,
   "metadata": {
    "collapsed": false
   },
   "outputs": [],
   "source": [
    "def get_max_distances(land_area):\n",
    "    #assuming counties are square (smaller area than circle - less points near or outside boundary)\n",
    "    side = math.sqrt(land_area)\n",
    "    r = side/2\n",
    "    return r"
   ]
  },
  {
   "cell_type": "code",
   "execution_count": 9,
   "metadata": {
    "collapsed": false
   },
   "outputs": [],
   "source": [
    "def get_max_distances_circle(land_area):\n",
    "    #assuming counties are circles (which they are not, but shapes are hard)\n",
    "    r_2 = land_area/math.pi\n",
    "    r = math.sqrt(r_2)\n",
    "    return r"
   ]
  },
  {
   "cell_type": "code",
   "execution_count": 10,
   "metadata": {
    "collapsed": false
   },
   "outputs": [],
   "source": [
    "def get_degree_ranges(land_area):\n",
    "    d = get_max_distances(land_area)\n",
    "    return (meters_to_degs(d, d))"
   ]
  },
  {
   "cell_type": "code",
   "execution_count": 11,
   "metadata": {
    "collapsed": false
   },
   "outputs": [
    {
     "data": {
      "text/plain": [
       "(0.17656910076302565, -0.1987309136349029)"
      ]
     },
     "execution_count": 11,
     "metadata": {},
     "output_type": "execute_result"
    }
   ],
   "source": [
    "#let's test the functions I wrote using the first entry in the csv\n",
    "x = df.iloc[0:1].ALAND\n",
    "al = get_degree_ranges(x)\n",
    "al"
   ]
  },
  {
   "cell_type": "markdown",
   "metadata": {},
   "source": [
    "The general idea here is to find the maxium distance from the center in the x and y direction and then find random samples within that boundary. Since counties are irregular in shape we will have to do some cleaning."
   ]
  },
  {
   "cell_type": "code",
   "execution_count": 12,
   "metadata": {
    "collapsed": false
   },
   "outputs": [
    {
     "ename": "KeyError",
     "evalue": "'INTPTLONG'",
     "output_type": "error",
     "traceback": [
      "\u001b[1;31m---------------------------------------------------------------------------\u001b[0m",
      "\u001b[1;31mKeyError\u001b[0m                                  Traceback (most recent call last)",
      "\u001b[1;32m<ipython-input-12-d7f28e5444da>\u001b[0m in \u001b[0;36m<module>\u001b[1;34m()\u001b[0m\n\u001b[0;32m      1\u001b[0m \u001b[1;31m#let's try to look at the info that's interesting at the moment (1001 corresponds to the first GEOID/index value)\u001b[0m\u001b[1;33m\u001b[0m\u001b[1;33m\u001b[0m\u001b[0m\n\u001b[1;32m----> 2\u001b[1;33m \u001b[0mdf\u001b[0m\u001b[1;33m[\u001b[0m\u001b[1;34m\"INTPTLONG\"\u001b[0m\u001b[1;33m]\u001b[0m\u001b[1;33m[\u001b[0m\u001b[1;36m1001\u001b[0m\u001b[1;33m]\u001b[0m\u001b[1;33m\u001b[0m\u001b[0m\n\u001b[0m",
      "\u001b[1;32mC:\\Users\\Ben\\Anaconda2\\lib\\site-packages\\pandas\\core\\frame.pyc\u001b[0m in \u001b[0;36m__getitem__\u001b[1;34m(self, key)\u001b[0m\n\u001b[0;32m   1912\u001b[0m             \u001b[1;32mreturn\u001b[0m \u001b[0mself\u001b[0m\u001b[1;33m.\u001b[0m\u001b[0m_getitem_multilevel\u001b[0m\u001b[1;33m(\u001b[0m\u001b[0mkey\u001b[0m\u001b[1;33m)\u001b[0m\u001b[1;33m\u001b[0m\u001b[0m\n\u001b[0;32m   1913\u001b[0m         \u001b[1;32melse\u001b[0m\u001b[1;33m:\u001b[0m\u001b[1;33m\u001b[0m\u001b[0m\n\u001b[1;32m-> 1914\u001b[1;33m             \u001b[1;32mreturn\u001b[0m \u001b[0mself\u001b[0m\u001b[1;33m.\u001b[0m\u001b[0m_getitem_column\u001b[0m\u001b[1;33m(\u001b[0m\u001b[0mkey\u001b[0m\u001b[1;33m)\u001b[0m\u001b[1;33m\u001b[0m\u001b[0m\n\u001b[0m\u001b[0;32m   1915\u001b[0m \u001b[1;33m\u001b[0m\u001b[0m\n\u001b[0;32m   1916\u001b[0m     \u001b[1;32mdef\u001b[0m \u001b[0m_getitem_column\u001b[0m\u001b[1;33m(\u001b[0m\u001b[0mself\u001b[0m\u001b[1;33m,\u001b[0m \u001b[0mkey\u001b[0m\u001b[1;33m)\u001b[0m\u001b[1;33m:\u001b[0m\u001b[1;33m\u001b[0m\u001b[0m\n",
      "\u001b[1;32mC:\\Users\\Ben\\Anaconda2\\lib\\site-packages\\pandas\\core\\frame.pyc\u001b[0m in \u001b[0;36m_getitem_column\u001b[1;34m(self, key)\u001b[0m\n\u001b[0;32m   1919\u001b[0m         \u001b[1;31m# get column\u001b[0m\u001b[1;33m\u001b[0m\u001b[1;33m\u001b[0m\u001b[0m\n\u001b[0;32m   1920\u001b[0m         \u001b[1;32mif\u001b[0m \u001b[0mself\u001b[0m\u001b[1;33m.\u001b[0m\u001b[0mcolumns\u001b[0m\u001b[1;33m.\u001b[0m\u001b[0mis_unique\u001b[0m\u001b[1;33m:\u001b[0m\u001b[1;33m\u001b[0m\u001b[0m\n\u001b[1;32m-> 1921\u001b[1;33m             \u001b[1;32mreturn\u001b[0m \u001b[0mself\u001b[0m\u001b[1;33m.\u001b[0m\u001b[0m_get_item_cache\u001b[0m\u001b[1;33m(\u001b[0m\u001b[0mkey\u001b[0m\u001b[1;33m)\u001b[0m\u001b[1;33m\u001b[0m\u001b[0m\n\u001b[0m\u001b[0;32m   1922\u001b[0m \u001b[1;33m\u001b[0m\u001b[0m\n\u001b[0;32m   1923\u001b[0m         \u001b[1;31m# duplicate columns & possible reduce dimensionaility\u001b[0m\u001b[1;33m\u001b[0m\u001b[1;33m\u001b[0m\u001b[0m\n",
      "\u001b[1;32mC:\\Users\\Ben\\Anaconda2\\lib\\site-packages\\pandas\\core\\generic.pyc\u001b[0m in \u001b[0;36m_get_item_cache\u001b[1;34m(self, item)\u001b[0m\n\u001b[0;32m   1088\u001b[0m         \u001b[0mres\u001b[0m \u001b[1;33m=\u001b[0m \u001b[0mcache\u001b[0m\u001b[1;33m.\u001b[0m\u001b[0mget\u001b[0m\u001b[1;33m(\u001b[0m\u001b[0mitem\u001b[0m\u001b[1;33m)\u001b[0m\u001b[1;33m\u001b[0m\u001b[0m\n\u001b[0;32m   1089\u001b[0m         \u001b[1;32mif\u001b[0m \u001b[0mres\u001b[0m \u001b[1;32mis\u001b[0m \u001b[0mNone\u001b[0m\u001b[1;33m:\u001b[0m\u001b[1;33m\u001b[0m\u001b[0m\n\u001b[1;32m-> 1090\u001b[1;33m             \u001b[0mvalues\u001b[0m \u001b[1;33m=\u001b[0m \u001b[0mself\u001b[0m\u001b[1;33m.\u001b[0m\u001b[0m_data\u001b[0m\u001b[1;33m.\u001b[0m\u001b[0mget\u001b[0m\u001b[1;33m(\u001b[0m\u001b[0mitem\u001b[0m\u001b[1;33m)\u001b[0m\u001b[1;33m\u001b[0m\u001b[0m\n\u001b[0m\u001b[0;32m   1091\u001b[0m             \u001b[0mres\u001b[0m \u001b[1;33m=\u001b[0m \u001b[0mself\u001b[0m\u001b[1;33m.\u001b[0m\u001b[0m_box_item_values\u001b[0m\u001b[1;33m(\u001b[0m\u001b[0mitem\u001b[0m\u001b[1;33m,\u001b[0m \u001b[0mvalues\u001b[0m\u001b[1;33m)\u001b[0m\u001b[1;33m\u001b[0m\u001b[0m\n\u001b[0;32m   1092\u001b[0m             \u001b[0mcache\u001b[0m\u001b[1;33m[\u001b[0m\u001b[0mitem\u001b[0m\u001b[1;33m]\u001b[0m \u001b[1;33m=\u001b[0m \u001b[0mres\u001b[0m\u001b[1;33m\u001b[0m\u001b[0m\n",
      "\u001b[1;32mC:\\Users\\Ben\\Anaconda2\\lib\\site-packages\\pandas\\core\\internals.pyc\u001b[0m in \u001b[0;36mget\u001b[1;34m(self, item, fastpath)\u001b[0m\n\u001b[0;32m   3100\u001b[0m \u001b[1;33m\u001b[0m\u001b[0m\n\u001b[0;32m   3101\u001b[0m             \u001b[1;32mif\u001b[0m \u001b[1;32mnot\u001b[0m \u001b[0misnull\u001b[0m\u001b[1;33m(\u001b[0m\u001b[0mitem\u001b[0m\u001b[1;33m)\u001b[0m\u001b[1;33m:\u001b[0m\u001b[1;33m\u001b[0m\u001b[0m\n\u001b[1;32m-> 3102\u001b[1;33m                 \u001b[0mloc\u001b[0m \u001b[1;33m=\u001b[0m \u001b[0mself\u001b[0m\u001b[1;33m.\u001b[0m\u001b[0mitems\u001b[0m\u001b[1;33m.\u001b[0m\u001b[0mget_loc\u001b[0m\u001b[1;33m(\u001b[0m\u001b[0mitem\u001b[0m\u001b[1;33m)\u001b[0m\u001b[1;33m\u001b[0m\u001b[0m\n\u001b[0m\u001b[0;32m   3103\u001b[0m             \u001b[1;32melse\u001b[0m\u001b[1;33m:\u001b[0m\u001b[1;33m\u001b[0m\u001b[0m\n\u001b[0;32m   3104\u001b[0m                 \u001b[0mindexer\u001b[0m \u001b[1;33m=\u001b[0m \u001b[0mnp\u001b[0m\u001b[1;33m.\u001b[0m\u001b[0marange\u001b[0m\u001b[1;33m(\u001b[0m\u001b[0mlen\u001b[0m\u001b[1;33m(\u001b[0m\u001b[0mself\u001b[0m\u001b[1;33m.\u001b[0m\u001b[0mitems\u001b[0m\u001b[1;33m)\u001b[0m\u001b[1;33m)\u001b[0m\u001b[1;33m[\u001b[0m\u001b[0misnull\u001b[0m\u001b[1;33m(\u001b[0m\u001b[0mself\u001b[0m\u001b[1;33m.\u001b[0m\u001b[0mitems\u001b[0m\u001b[1;33m)\u001b[0m\u001b[1;33m]\u001b[0m\u001b[1;33m\u001b[0m\u001b[0m\n",
      "\u001b[1;32mC:\\Users\\Ben\\Anaconda2\\lib\\site-packages\\pandas\\core\\index.pyc\u001b[0m in \u001b[0;36mget_loc\u001b[1;34m(self, key, method, tolerance)\u001b[0m\n\u001b[0;32m   1690\u001b[0m                 raise ValueError('tolerance argument only valid if using pad, '\n\u001b[0;32m   1691\u001b[0m                                  'backfill or nearest lookups')\n\u001b[1;32m-> 1692\u001b[1;33m             \u001b[1;32mreturn\u001b[0m \u001b[0mself\u001b[0m\u001b[1;33m.\u001b[0m\u001b[0m_engine\u001b[0m\u001b[1;33m.\u001b[0m\u001b[0mget_loc\u001b[0m\u001b[1;33m(\u001b[0m\u001b[0m_values_from_object\u001b[0m\u001b[1;33m(\u001b[0m\u001b[0mkey\u001b[0m\u001b[1;33m)\u001b[0m\u001b[1;33m)\u001b[0m\u001b[1;33m\u001b[0m\u001b[0m\n\u001b[0m\u001b[0;32m   1693\u001b[0m \u001b[1;33m\u001b[0m\u001b[0m\n\u001b[0;32m   1694\u001b[0m         indexer = self.get_indexer([key], method=method,\n",
      "\u001b[1;32mpandas\\index.pyx\u001b[0m in \u001b[0;36mpandas.index.IndexEngine.get_loc (pandas\\index.c:3979)\u001b[1;34m()\u001b[0m\n",
      "\u001b[1;32mpandas\\index.pyx\u001b[0m in \u001b[0;36mpandas.index.IndexEngine.get_loc (pandas\\index.c:3843)\u001b[1;34m()\u001b[0m\n",
      "\u001b[1;32mpandas\\hashtable.pyx\u001b[0m in \u001b[0;36mpandas.hashtable.PyObjectHashTable.get_item (pandas\\hashtable.c:12265)\u001b[1;34m()\u001b[0m\n",
      "\u001b[1;32mpandas\\hashtable.pyx\u001b[0m in \u001b[0;36mpandas.hashtable.PyObjectHashTable.get_item (pandas\\hashtable.c:12216)\u001b[1;34m()\u001b[0m\n",
      "\u001b[1;31mKeyError\u001b[0m: 'INTPTLONG'"
     ]
    }
   ],
   "source": [
    "#let's try to look at the info that's interesting at the moment (1001 corresponds to the first GEOID/index value)\n",
    "df[\"INTPTLONG\"][1001]"
   ]
  },
  {
   "cell_type": "code",
   "execution_count": 13,
   "metadata": {
    "collapsed": false
   },
   "outputs": [
    {
     "data": {
      "text/plain": [
       "-86.646468999999996"
      ]
     },
     "execution_count": 13,
     "metadata": {},
     "output_type": "execute_result"
    }
   ],
   "source": [
    "#why the error message? try this one:\n",
    "df[\"INTPTLONG                                                                                                               \"][1001]"
   ]
  },
  {
   "cell_type": "code",
   "execution_count": 14,
   "metadata": {
    "collapsed": false
   },
   "outputs": [
    {
     "data": {
      "text/plain": [
       "-86.646468999999996"
      ]
     },
     "execution_count": 14,
     "metadata": {},
     "output_type": "execute_result"
    }
   ],
   "source": [
    "#quick fix\n",
    "df.columns = [x.strip() for x in df.columns]\n",
    "df[\"INTPTLONG\"][1001]"
   ]
  },
  {
   "cell_type": "code",
   "execution_count": 15,
   "metadata": {
    "collapsed": false
   },
   "outputs": [],
   "source": [
    "def sampler(row, val):\n",
    "    #row corresponds to one of the dataframe rows\n",
    "    #val is the row of the Latin Square that I will use for this sample\n",
    "    latin_square_coefficient = b[val]\n",
    "    multiplier = get_degree_ranges(row.ALAND)\n",
    "    center = [row.INTPTLAT, row.INTPTLONG]\n",
    "    return latin_square_coefficient*multiplier + center"
   ]
  },
  {
   "cell_type": "code",
   "execution_count": 16,
   "metadata": {
    "collapsed": false
   },
   "outputs": [],
   "source": [
    "#constants\n",
    "num_of_samples = 30 #samples per county \n",
    "\n",
    "latin_square_coefficient = lhs(2, samples=num_of_samples, criterion='center')\n",
    "latin_square_coefficient = (latin_square_coefficient-0.5)*2"
   ]
  },
  {
   "cell_type": "markdown",
   "metadata": {},
   "source": [
    "Let's test out the sampling function using the first row of the dataframe."
   ]
  },
  {
   "cell_type": "code",
   "execution_count": 17,
   "metadata": {
    "collapsed": false
   },
   "outputs": [
    {
     "name": "stdout",
     "output_type": "stream",
     "text": [
      "latitude\tlongitude\n",
      "32.6204445504\t-86.6795908189\n",
      "32.4085616295\t-86.4941086329\n",
      "32.608673277\t-86.6928395465\n",
      "32.5145030899\t-86.5868497259\n",
      "32.5380456367\t-86.7590831844\n",
      "32.455646723\t-86.7855806395\n",
      "32.5262743633\t-86.8385755498\n",
      "32.3967903561\t-86.520606088\n",
      "32.3614765359\t-86.7193370017\n",
      "32.4674179964\t-86.772331912\n",
      "32.5733594568\t-86.7060882741\n",
      "32.6557583705\t-86.8253268223\n",
      "32.4791892698\t-86.7458344568\n",
      "32.3732478093\t-86.7988293671\n",
      "32.6322158238\t-86.5736009983\n",
      "32.6910721907\t-86.6530933638\n",
      "32.6675296439\t-86.5471035432\n",
      "32.6793009173\t-86.5073573605\n",
      "32.5498169101\t-86.5338548156\n",
      "32.5615881835\t-86.6265959086\n",
      "32.5027318165\t-86.4543624502\n",
      "32.4203329029\t-86.5603522708\n",
      "32.4909605432\t-86.6398446362\n",
      "32.7028434641\t-86.4808599053\n",
      "32.6439870971\t-86.4676111777\n",
      "32.4438754496\t-86.6133471811\n",
      "32.5851307302\t-86.8120780947\n",
      "32.3850190827\t-86.7325857292\n",
      "32.4321041762\t-86.6663420914\n",
      "32.5969020036\t-86.6000984535\n"
     ]
    }
   ],
   "source": [
    "print \"latitude\\tlongitude\"\n",
    "for x in xrange(30):\n",
    "    sample = sampler(df.loc[1001], x)\n",
    "    print \"{0}\\t{1}\".format(sample[0], sample[1])"
   ]
  },
  {
   "cell_type": "markdown",
   "metadata": {},
   "source": [
    "Sweet, so now we have 30 points generated inside our target county. We should stop and check at this point to make sure our methodology is correct, that is check to make sure these points are actually inside the correct county. We can visualize this on map. I'm grabbing the first county, which is in AL and plotting the points against the boundary of the county, using a GEOjson (which you can download [here](http://people.bu.edu/balawson/json/al.geojson) and is originally from here [here](http://catalog.opendata.city/dataset/alabama-counties-polygon/resource/af46d2c0-5f84-42ae-85a1-d2ab7d46d9a7)) "
   ]
  },
  {
   "cell_type": "code",
   "execution_count": 26,
   "metadata": {
    "collapsed": false
   },
   "outputs": [],
   "source": [
    "import folium, json\n",
    "\n",
    "row = df.loc[1001]\n",
    "center = [row.INTPTLAT, row.INTPTLONG]\n",
    "name = row.NAME\n",
    "\n",
    "#you can download this file here: (http://catalog.civicdashboards.com/dataset/1c992edf-5ec7-456b-8191-c73a33bb79e1/resource/af46d2c0-5f84-42ae-85a1-d2ab7d46d9a7/download/ee2d088c0afb441cb8eaf57a8d279de6temp.geojson)\n",
    "#it contains the boundaries for all the counties in AL\n",
    "with open('al.geojson') as f:\n",
    "    countylines = json.load(f)\n",
    "\n",
    "multi = []\n",
    "for x in countylines['features']:\n",
    "    if name in x['properties']['name']:\n",
    "        for y in x['geometry']['coordinates'][0][0]:\n",
    "            multi.append([y[1], y[0]])\n",
    "\n",
    "#sample code from the Folium tutorial at (https://github.com/python-visualization/folium) \n",
    "map_osm = folium.Map(location=[center[0], center[1]])\n",
    "\n",
    "# Create the map and add the line\n",
    "map_osm.line(multi, line_color='#FF0000', line_weight=5)\n",
    "\n",
    "#loop over point\n",
    "for x in xrange(num_of_samples):\n",
    "    sample = sampler(df.loc[1001], x)\n",
    "    map_osm.simple_marker([sample[0], sample[1]], popup='Sample Number: {0}'.format(x))\n",
    "\n",
    "map_osm.create_map(path='osm.html')\n"
   ]
  },
  {
   "cell_type": "code",
   "execution_count": 27,
   "metadata": {
    "collapsed": false
   },
   "outputs": [
    {
     "data": {
      "text/html": [
       "<iframe srcdoc=\"<!DOCTYPE html>\n",
       "<head>\n",
       "  <meta http-equiv=&quot;content-type&quot; content=&quot;text/html; charset=UTF-8&quot; />\n",
       "   <link rel=&quot;stylesheet&quot; href=&quot;https://rawgit.com/andrewgiessel/leafletstuff/master/leaflet.css&quot; />\n",
       "   <script src=&quot;https://cdnjs.cloudflare.com/ajax/libs/leaflet/0.7.3/leaflet.js&quot;></script>\n",
       "\n",
       "   <script src=&quot;https://ajax.googleapis.com/ajax/libs/jquery/1.11.1/jquery.min.js&quot;></script>\n",
       "\n",
       "   <link rel=&quot;stylesheet&quot; href=&quot;https://maxcdn.bootstrapcdn.com/bootstrap/3.2.0/css/bootstrap.min.css&quot;>\n",
       "   <link rel=&quot;stylesheet&quot; href=&quot;https://maxcdn.bootstrapcdn.com/bootstrap/3.2.0/css/bootstrap-theme.min.css&quot;>\n",
       "   <script src=&quot;https://maxcdn.bootstrapcdn.com/bootstrap/3.2.0/js/bootstrap.min.js&quot;></script>\n",
       "\n",
       "   <link href=&quot;https://maxcdn.bootstrapcdn.com/font-awesome/4.1.0/css/font-awesome.min.css&quot; rel=&quot;stylesheet&quot;>\n",
       "\n",
       "   <link rel=&quot;stylesheet&quot; href=&quot;https://rawgit.com/lvoogdt/Leaflet.awesome-markers/2.0/develop/dist/leaflet.awesome-markers.css&quot;>\n",
       "   <script src=&quot;https://rawgithub.com/lvoogdt/Leaflet.awesome-markers/2.0/develop/dist/leaflet.awesome-markers.js&quot;></script>\n",
       "\n",
       "\n",
       "   <link rel=&quot;stylesheet&quot; href=&quot;https://cdnjs.cloudflare.com/ajax/libs/leaflet.markercluster/0.4.0/MarkerCluster.Default.css&quot;>\n",
       "   <link rel=&quot;stylesheet&quot; href=&quot;https://cdnjs.cloudflare.com/ajax/libs/leaflet.markercluster/0.4.0/MarkerCluster.css&quot;>\n",
       "   <script src=&quot;https://cdnjs.cloudflare.com/ajax/libs/leaflet.markercluster/0.4.0/leaflet.markercluster-src.js&quot;></script>\n",
       "   <script src=&quot;https://cdnjs.cloudflare.com/ajax/libs/leaflet.markercluster/0.4.0/leaflet.markercluster.js&quot;></script>\n",
       "\n",
       "   <link rel=&quot;stylesheet&quot; href=&quot;https://birdage.github.io/Leaflet.awesome-markers/dist/leaflet.awesome.rotate.css&quot;>\n",
       "\n",
       "   \n",
       "   \n",
       "   \n",
       "   \n",
       "\n",
       "   <style>\n",
       "\n",
       "      html, body {\n",
       "        width: 100%;\n",
       "        height: 100%;\n",
       "        margin: 0;\n",
       "        padding: 0;\n",
       "      }\n",
       "\n",
       "      #map {\n",
       "        position:absolute;\n",
       "        top:0;\n",
       "        bottom:0;\n",
       "        right:0;\n",
       "        left:0;\n",
       "      }\n",
       "\n",
       "   </style>\n",
       "</head>\n",
       "\n",
       "<body>\n",
       "\n",
       "   <div class=&quot;folium-map&quot; id=&quot;folium_b4dbe84cca0b44078a4fa6ac095e7dc3&quot; style=&quot;width: 100%; height: 100%&quot;></div>\n",
       "\n",
       "   <script>\n",
       "\n",
       "      \n",
       "\n",
       "      var base_tile = L.tileLayer('https://{s}.tile.openstreetmap.org/{z}/{x}/{y}.png', {\n",
       "          maxZoom: 18,\n",
       "          minZoom: 1,\n",
       "          attribution: 'Map data (c) <a href=&quot;http://openstreetmap.org&quot;>OpenStreetMap</a> contributors'\n",
       "      });\n",
       "\n",
       "      var baseLayer = {\n",
       "        &quot;Base Layer&quot;: base_tile\n",
       "      };\n",
       "\n",
       "      /*\n",
       "      addition of the wms layers\n",
       "      */\n",
       "\n",
       "      \n",
       "\n",
       "      /*\n",
       "      addition of the tile layers\n",
       "      */\n",
       "      \n",
       "\n",
       "      /*\n",
       "      list of layers to be added\n",
       "      */\n",
       "      var layer_list = {\n",
       "      \n",
       "      };\n",
       "\n",
       "      /*\n",
       "      Bounding box.\n",
       "      */\n",
       "      var southWest = L.latLng(-90, -180),\n",
       "          northEast = L.latLng(90, 180),\n",
       "          bounds = L.latLngBounds(southWest, northEast);\n",
       "\n",
       "      /*\n",
       "      Creates the map and adds the selected layers\n",
       "      */\n",
       "      var map = L.map('folium_b4dbe84cca0b44078a4fa6ac095e7dc3', {\n",
       "                                       center:[32.53216, -86.646469],\n",
       "                                       zoom: 10,\n",
       "                                       maxBounds: bounds,\n",
       "                                       layers: [base_tile]\n",
       "                                     });\n",
       "\n",
       "      L.control.layers(baseLayer, layer_list).addTo(map);\n",
       "\n",
       "      /*\n",
       "      addition of the image layers\n",
       "      */\n",
       "      \n",
       "      \n",
       "      //cluster group\n",
       "      var clusteredmarkers = L.markerClusterGroup();\n",
       "      //section for adding clustered markers\n",
       "      \n",
       "      //add the clustered markers to the group anyway\n",
       "      map.addLayer(clusteredmarkers);\n",
       "\n",
       "      \n",
       "      var marker_1_icon = L.AwesomeMarkers.icon({ icon: 'info-sign',markerColor: 'blue',prefix: 'glyphicon',extraClasses: 'fa-rotate-0'});\n",
       "      var marker_1 = L.marker([32.6204445504, \n",
       "\t\t\t\t\t\t\t-86.6795908189],\n",
       "\t\t\t\t\t\t\t{'icon':marker_1_icon}\n",
       "\t\t\t\t\t\t\t);\n",
       "      marker_1.bindPopup(&quot;Sample Number: 0&quot;);\n",
       "      marker_1._popup.options.maxWidth = 300;\n",
       "      map.addLayer(marker_1)\n",
       "      \n",
       "      var marker_2_icon = L.AwesomeMarkers.icon({ icon: 'info-sign',markerColor: 'blue',prefix: 'glyphicon',extraClasses: 'fa-rotate-0'});\n",
       "      var marker_2 = L.marker([32.4085616295, \n",
       "\t\t\t\t\t\t\t-86.4941086329],\n",
       "\t\t\t\t\t\t\t{'icon':marker_2_icon}\n",
       "\t\t\t\t\t\t\t);\n",
       "      marker_2.bindPopup(&quot;Sample Number: 1&quot;);\n",
       "      marker_2._popup.options.maxWidth = 300;\n",
       "      map.addLayer(marker_2)\n",
       "      \n",
       "      var marker_3_icon = L.AwesomeMarkers.icon({ icon: 'info-sign',markerColor: 'blue',prefix: 'glyphicon',extraClasses: 'fa-rotate-0'});\n",
       "      var marker_3 = L.marker([32.608673277, \n",
       "\t\t\t\t\t\t\t-86.6928395465],\n",
       "\t\t\t\t\t\t\t{'icon':marker_3_icon}\n",
       "\t\t\t\t\t\t\t);\n",
       "      marker_3.bindPopup(&quot;Sample Number: 2&quot;);\n",
       "      marker_3._popup.options.maxWidth = 300;\n",
       "      map.addLayer(marker_3)\n",
       "      \n",
       "      var marker_4_icon = L.AwesomeMarkers.icon({ icon: 'info-sign',markerColor: 'blue',prefix: 'glyphicon',extraClasses: 'fa-rotate-0'});\n",
       "      var marker_4 = L.marker([32.5145030899, \n",
       "\t\t\t\t\t\t\t-86.5868497259],\n",
       "\t\t\t\t\t\t\t{'icon':marker_4_icon}\n",
       "\t\t\t\t\t\t\t);\n",
       "      marker_4.bindPopup(&quot;Sample Number: 3&quot;);\n",
       "      marker_4._popup.options.maxWidth = 300;\n",
       "      map.addLayer(marker_4)\n",
       "      \n",
       "      var marker_5_icon = L.AwesomeMarkers.icon({ icon: 'info-sign',markerColor: 'blue',prefix: 'glyphicon',extraClasses: 'fa-rotate-0'});\n",
       "      var marker_5 = L.marker([32.5380456367, \n",
       "\t\t\t\t\t\t\t-86.7590831844],\n",
       "\t\t\t\t\t\t\t{'icon':marker_5_icon}\n",
       "\t\t\t\t\t\t\t);\n",
       "      marker_5.bindPopup(&quot;Sample Number: 4&quot;);\n",
       "      marker_5._popup.options.maxWidth = 300;\n",
       "      map.addLayer(marker_5)\n",
       "      \n",
       "      var marker_6_icon = L.AwesomeMarkers.icon({ icon: 'info-sign',markerColor: 'blue',prefix: 'glyphicon',extraClasses: 'fa-rotate-0'});\n",
       "      var marker_6 = L.marker([32.455646723, \n",
       "\t\t\t\t\t\t\t-86.7855806395],\n",
       "\t\t\t\t\t\t\t{'icon':marker_6_icon}\n",
       "\t\t\t\t\t\t\t);\n",
       "      marker_6.bindPopup(&quot;Sample Number: 5&quot;);\n",
       "      marker_6._popup.options.maxWidth = 300;\n",
       "      map.addLayer(marker_6)\n",
       "      \n",
       "      var marker_7_icon = L.AwesomeMarkers.icon({ icon: 'info-sign',markerColor: 'blue',prefix: 'glyphicon',extraClasses: 'fa-rotate-0'});\n",
       "      var marker_7 = L.marker([32.5262743633, \n",
       "\t\t\t\t\t\t\t-86.8385755498],\n",
       "\t\t\t\t\t\t\t{'icon':marker_7_icon}\n",
       "\t\t\t\t\t\t\t);\n",
       "      marker_7.bindPopup(&quot;Sample Number: 6&quot;);\n",
       "      marker_7._popup.options.maxWidth = 300;\n",
       "      map.addLayer(marker_7)\n",
       "      \n",
       "      var marker_8_icon = L.AwesomeMarkers.icon({ icon: 'info-sign',markerColor: 'blue',prefix: 'glyphicon',extraClasses: 'fa-rotate-0'});\n",
       "      var marker_8 = L.marker([32.3967903561, \n",
       "\t\t\t\t\t\t\t-86.520606088],\n",
       "\t\t\t\t\t\t\t{'icon':marker_8_icon}\n",
       "\t\t\t\t\t\t\t);\n",
       "      marker_8.bindPopup(&quot;Sample Number: 7&quot;);\n",
       "      marker_8._popup.options.maxWidth = 300;\n",
       "      map.addLayer(marker_8)\n",
       "      \n",
       "      var marker_9_icon = L.AwesomeMarkers.icon({ icon: 'info-sign',markerColor: 'blue',prefix: 'glyphicon',extraClasses: 'fa-rotate-0'});\n",
       "      var marker_9 = L.marker([32.3614765359, \n",
       "\t\t\t\t\t\t\t-86.7193370017],\n",
       "\t\t\t\t\t\t\t{'icon':marker_9_icon}\n",
       "\t\t\t\t\t\t\t);\n",
       "      marker_9.bindPopup(&quot;Sample Number: 8&quot;);\n",
       "      marker_9._popup.options.maxWidth = 300;\n",
       "      map.addLayer(marker_9)\n",
       "      \n",
       "      var marker_10_icon = L.AwesomeMarkers.icon({ icon: 'info-sign',markerColor: 'blue',prefix: 'glyphicon',extraClasses: 'fa-rotate-0'});\n",
       "      var marker_10 = L.marker([32.4674179964, \n",
       "\t\t\t\t\t\t\t-86.772331912],\n",
       "\t\t\t\t\t\t\t{'icon':marker_10_icon}\n",
       "\t\t\t\t\t\t\t);\n",
       "      marker_10.bindPopup(&quot;Sample Number: 9&quot;);\n",
       "      marker_10._popup.options.maxWidth = 300;\n",
       "      map.addLayer(marker_10)\n",
       "      \n",
       "      var marker_11_icon = L.AwesomeMarkers.icon({ icon: 'info-sign',markerColor: 'blue',prefix: 'glyphicon',extraClasses: 'fa-rotate-0'});\n",
       "      var marker_11 = L.marker([32.5733594568, \n",
       "\t\t\t\t\t\t\t-86.7060882741],\n",
       "\t\t\t\t\t\t\t{'icon':marker_11_icon}\n",
       "\t\t\t\t\t\t\t);\n",
       "      marker_11.bindPopup(&quot;Sample Number: 10&quot;);\n",
       "      marker_11._popup.options.maxWidth = 300;\n",
       "      map.addLayer(marker_11)\n",
       "      \n",
       "      var marker_12_icon = L.AwesomeMarkers.icon({ icon: 'info-sign',markerColor: 'blue',prefix: 'glyphicon',extraClasses: 'fa-rotate-0'});\n",
       "      var marker_12 = L.marker([32.6557583705, \n",
       "\t\t\t\t\t\t\t-86.8253268223],\n",
       "\t\t\t\t\t\t\t{'icon':marker_12_icon}\n",
       "\t\t\t\t\t\t\t);\n",
       "      marker_12.bindPopup(&quot;Sample Number: 11&quot;);\n",
       "      marker_12._popup.options.maxWidth = 300;\n",
       "      map.addLayer(marker_12)\n",
       "      \n",
       "      var marker_13_icon = L.AwesomeMarkers.icon({ icon: 'info-sign',markerColor: 'blue',prefix: 'glyphicon',extraClasses: 'fa-rotate-0'});\n",
       "      var marker_13 = L.marker([32.4791892698, \n",
       "\t\t\t\t\t\t\t-86.7458344568],\n",
       "\t\t\t\t\t\t\t{'icon':marker_13_icon}\n",
       "\t\t\t\t\t\t\t);\n",
       "      marker_13.bindPopup(&quot;Sample Number: 12&quot;);\n",
       "      marker_13._popup.options.maxWidth = 300;\n",
       "      map.addLayer(marker_13)\n",
       "      \n",
       "      var marker_14_icon = L.AwesomeMarkers.icon({ icon: 'info-sign',markerColor: 'blue',prefix: 'glyphicon',extraClasses: 'fa-rotate-0'});\n",
       "      var marker_14 = L.marker([32.3732478093, \n",
       "\t\t\t\t\t\t\t-86.7988293671],\n",
       "\t\t\t\t\t\t\t{'icon':marker_14_icon}\n",
       "\t\t\t\t\t\t\t);\n",
       "      marker_14.bindPopup(&quot;Sample Number: 13&quot;);\n",
       "      marker_14._popup.options.maxWidth = 300;\n",
       "      map.addLayer(marker_14)\n",
       "      \n",
       "      var marker_15_icon = L.AwesomeMarkers.icon({ icon: 'info-sign',markerColor: 'blue',prefix: 'glyphicon',extraClasses: 'fa-rotate-0'});\n",
       "      var marker_15 = L.marker([32.6322158238, \n",
       "\t\t\t\t\t\t\t-86.5736009983],\n",
       "\t\t\t\t\t\t\t{'icon':marker_15_icon}\n",
       "\t\t\t\t\t\t\t);\n",
       "      marker_15.bindPopup(&quot;Sample Number: 14&quot;);\n",
       "      marker_15._popup.options.maxWidth = 300;\n",
       "      map.addLayer(marker_15)\n",
       "      \n",
       "      var marker_16_icon = L.AwesomeMarkers.icon({ icon: 'info-sign',markerColor: 'blue',prefix: 'glyphicon',extraClasses: 'fa-rotate-0'});\n",
       "      var marker_16 = L.marker([32.6910721907, \n",
       "\t\t\t\t\t\t\t-86.6530933638],\n",
       "\t\t\t\t\t\t\t{'icon':marker_16_icon}\n",
       "\t\t\t\t\t\t\t);\n",
       "      marker_16.bindPopup(&quot;Sample Number: 15&quot;);\n",
       "      marker_16._popup.options.maxWidth = 300;\n",
       "      map.addLayer(marker_16)\n",
       "      \n",
       "      var marker_17_icon = L.AwesomeMarkers.icon({ icon: 'info-sign',markerColor: 'blue',prefix: 'glyphicon',extraClasses: 'fa-rotate-0'});\n",
       "      var marker_17 = L.marker([32.6675296439, \n",
       "\t\t\t\t\t\t\t-86.5471035432],\n",
       "\t\t\t\t\t\t\t{'icon':marker_17_icon}\n",
       "\t\t\t\t\t\t\t);\n",
       "      marker_17.bindPopup(&quot;Sample Number: 16&quot;);\n",
       "      marker_17._popup.options.maxWidth = 300;\n",
       "      map.addLayer(marker_17)\n",
       "      \n",
       "      var marker_18_icon = L.AwesomeMarkers.icon({ icon: 'info-sign',markerColor: 'blue',prefix: 'glyphicon',extraClasses: 'fa-rotate-0'});\n",
       "      var marker_18 = L.marker([32.6793009173, \n",
       "\t\t\t\t\t\t\t-86.5073573605],\n",
       "\t\t\t\t\t\t\t{'icon':marker_18_icon}\n",
       "\t\t\t\t\t\t\t);\n",
       "      marker_18.bindPopup(&quot;Sample Number: 17&quot;);\n",
       "      marker_18._popup.options.maxWidth = 300;\n",
       "      map.addLayer(marker_18)\n",
       "      \n",
       "      var marker_19_icon = L.AwesomeMarkers.icon({ icon: 'info-sign',markerColor: 'blue',prefix: 'glyphicon',extraClasses: 'fa-rotate-0'});\n",
       "      var marker_19 = L.marker([32.5498169101, \n",
       "\t\t\t\t\t\t\t-86.5338548156],\n",
       "\t\t\t\t\t\t\t{'icon':marker_19_icon}\n",
       "\t\t\t\t\t\t\t);\n",
       "      marker_19.bindPopup(&quot;Sample Number: 18&quot;);\n",
       "      marker_19._popup.options.maxWidth = 300;\n",
       "      map.addLayer(marker_19)\n",
       "      \n",
       "      var marker_20_icon = L.AwesomeMarkers.icon({ icon: 'info-sign',markerColor: 'blue',prefix: 'glyphicon',extraClasses: 'fa-rotate-0'});\n",
       "      var marker_20 = L.marker([32.5615881835, \n",
       "\t\t\t\t\t\t\t-86.6265959086],\n",
       "\t\t\t\t\t\t\t{'icon':marker_20_icon}\n",
       "\t\t\t\t\t\t\t);\n",
       "      marker_20.bindPopup(&quot;Sample Number: 19&quot;);\n",
       "      marker_20._popup.options.maxWidth = 300;\n",
       "      map.addLayer(marker_20)\n",
       "      \n",
       "      var marker_21_icon = L.AwesomeMarkers.icon({ icon: 'info-sign',markerColor: 'blue',prefix: 'glyphicon',extraClasses: 'fa-rotate-0'});\n",
       "      var marker_21 = L.marker([32.5027318165, \n",
       "\t\t\t\t\t\t\t-86.4543624502],\n",
       "\t\t\t\t\t\t\t{'icon':marker_21_icon}\n",
       "\t\t\t\t\t\t\t);\n",
       "      marker_21.bindPopup(&quot;Sample Number: 20&quot;);\n",
       "      marker_21._popup.options.maxWidth = 300;\n",
       "      map.addLayer(marker_21)\n",
       "      \n",
       "      var marker_22_icon = L.AwesomeMarkers.icon({ icon: 'info-sign',markerColor: 'blue',prefix: 'glyphicon',extraClasses: 'fa-rotate-0'});\n",
       "      var marker_22 = L.marker([32.4203329029, \n",
       "\t\t\t\t\t\t\t-86.5603522708],\n",
       "\t\t\t\t\t\t\t{'icon':marker_22_icon}\n",
       "\t\t\t\t\t\t\t);\n",
       "      marker_22.bindPopup(&quot;Sample Number: 21&quot;);\n",
       "      marker_22._popup.options.maxWidth = 300;\n",
       "      map.addLayer(marker_22)\n",
       "      \n",
       "      var marker_23_icon = L.AwesomeMarkers.icon({ icon: 'info-sign',markerColor: 'blue',prefix: 'glyphicon',extraClasses: 'fa-rotate-0'});\n",
       "      var marker_23 = L.marker([32.4909605432, \n",
       "\t\t\t\t\t\t\t-86.6398446362],\n",
       "\t\t\t\t\t\t\t{'icon':marker_23_icon}\n",
       "\t\t\t\t\t\t\t);\n",
       "      marker_23.bindPopup(&quot;Sample Number: 22&quot;);\n",
       "      marker_23._popup.options.maxWidth = 300;\n",
       "      map.addLayer(marker_23)\n",
       "      \n",
       "      var marker_24_icon = L.AwesomeMarkers.icon({ icon: 'info-sign',markerColor: 'blue',prefix: 'glyphicon',extraClasses: 'fa-rotate-0'});\n",
       "      var marker_24 = L.marker([32.7028434641, \n",
       "\t\t\t\t\t\t\t-86.4808599053],\n",
       "\t\t\t\t\t\t\t{'icon':marker_24_icon}\n",
       "\t\t\t\t\t\t\t);\n",
       "      marker_24.bindPopup(&quot;Sample Number: 23&quot;);\n",
       "      marker_24._popup.options.maxWidth = 300;\n",
       "      map.addLayer(marker_24)\n",
       "      \n",
       "      var marker_25_icon = L.AwesomeMarkers.icon({ icon: 'info-sign',markerColor: 'blue',prefix: 'glyphicon',extraClasses: 'fa-rotate-0'});\n",
       "      var marker_25 = L.marker([32.6439870971, \n",
       "\t\t\t\t\t\t\t-86.4676111777],\n",
       "\t\t\t\t\t\t\t{'icon':marker_25_icon}\n",
       "\t\t\t\t\t\t\t);\n",
       "      marker_25.bindPopup(&quot;Sample Number: 24&quot;);\n",
       "      marker_25._popup.options.maxWidth = 300;\n",
       "      map.addLayer(marker_25)\n",
       "      \n",
       "      var marker_26_icon = L.AwesomeMarkers.icon({ icon: 'info-sign',markerColor: 'blue',prefix: 'glyphicon',extraClasses: 'fa-rotate-0'});\n",
       "      var marker_26 = L.marker([32.4438754496, \n",
       "\t\t\t\t\t\t\t-86.6133471811],\n",
       "\t\t\t\t\t\t\t{'icon':marker_26_icon}\n",
       "\t\t\t\t\t\t\t);\n",
       "      marker_26.bindPopup(&quot;Sample Number: 25&quot;);\n",
       "      marker_26._popup.options.maxWidth = 300;\n",
       "      map.addLayer(marker_26)\n",
       "      \n",
       "      var marker_27_icon = L.AwesomeMarkers.icon({ icon: 'info-sign',markerColor: 'blue',prefix: 'glyphicon',extraClasses: 'fa-rotate-0'});\n",
       "      var marker_27 = L.marker([32.5851307302, \n",
       "\t\t\t\t\t\t\t-86.8120780947],\n",
       "\t\t\t\t\t\t\t{'icon':marker_27_icon}\n",
       "\t\t\t\t\t\t\t);\n",
       "      marker_27.bindPopup(&quot;Sample Number: 26&quot;);\n",
       "      marker_27._popup.options.maxWidth = 300;\n",
       "      map.addLayer(marker_27)\n",
       "      \n",
       "      var marker_28_icon = L.AwesomeMarkers.icon({ icon: 'info-sign',markerColor: 'blue',prefix: 'glyphicon',extraClasses: 'fa-rotate-0'});\n",
       "      var marker_28 = L.marker([32.3850190827, \n",
       "\t\t\t\t\t\t\t-86.7325857292],\n",
       "\t\t\t\t\t\t\t{'icon':marker_28_icon}\n",
       "\t\t\t\t\t\t\t);\n",
       "      marker_28.bindPopup(&quot;Sample Number: 27&quot;);\n",
       "      marker_28._popup.options.maxWidth = 300;\n",
       "      map.addLayer(marker_28)\n",
       "      \n",
       "      var marker_29_icon = L.AwesomeMarkers.icon({ icon: 'info-sign',markerColor: 'blue',prefix: 'glyphicon',extraClasses: 'fa-rotate-0'});\n",
       "      var marker_29 = L.marker([32.4321041762, \n",
       "\t\t\t\t\t\t\t-86.6663420914],\n",
       "\t\t\t\t\t\t\t{'icon':marker_29_icon}\n",
       "\t\t\t\t\t\t\t);\n",
       "      marker_29.bindPopup(&quot;Sample Number: 28&quot;);\n",
       "      marker_29._popup.options.maxWidth = 300;\n",
       "      map.addLayer(marker_29)\n",
       "      \n",
       "      var marker_30_icon = L.AwesomeMarkers.icon({ icon: 'info-sign',markerColor: 'blue',prefix: 'glyphicon',extraClasses: 'fa-rotate-0'});\n",
       "      var marker_30 = L.marker([32.5969020036, \n",
       "\t\t\t\t\t\t\t-86.6000984535],\n",
       "\t\t\t\t\t\t\t{'icon':marker_30_icon}\n",
       "\t\t\t\t\t\t\t);\n",
       "      marker_30.bindPopup(&quot;Sample Number: 29&quot;);\n",
       "      marker_30._popup.options.maxWidth = 300;\n",
       "      map.addLayer(marker_30)\n",
       "      \n",
       "\n",
       "      \n",
       "\n",
       "      \n",
       "      var latLngs = [ [32.657542, -86.921196],  [32.663773, -86.918123],  [32.664355, -86.91461],  [32.660117, -86.816574],  [32.661732, -86.71339],  [32.705694, -86.714219],  [32.708213, -86.439632],  [32.707386, -86.413116],  [32.409937, -86.411172],  [32.402437, -86.425072],  [32.400016, -86.440876],  [32.400703, -86.447696],  [32.405807, -86.455616],  [32.405441, -86.459552],  [32.403473, -86.461277],  [32.395781, -86.45914],  [32.388365, -86.462574],  [32.378135, -86.462497],  [32.371606, -86.470677],  [32.364564, -86.476352],  [32.366936, -86.485997],  [32.364327, -86.491902],  [32.360321, -86.492635],  [32.351104, -86.48972],  [32.346245, -86.491292],  [32.344727, -86.494511],  [32.338775, -86.532531],  [32.341262, -86.537215],  [32.3452, -86.539251],  [32.363517, -86.542537],  [32.366356, -86.544042],  [32.369242, -86.547899],  [32.369033, -86.558946],  [32.375006, -86.570551],  [32.37586, -86.579213],  [32.375019, -86.581873],  [32.367658, -86.588342],  [32.362125, -86.590571],  [32.361345, -86.595335],  [32.374266, -86.614841],  [32.379904, -86.616619],  [32.388302, -86.614074],  [32.398584, -86.613453],  [32.403066, -86.615485],  [32.406474, -86.619812],  [32.406647, -86.622856],  [32.402113, -86.630933],  [32.402926, -86.642459],  [32.399317, -86.651507],  [32.396279, -86.653953],  [32.388689, -86.65579],  [32.382519, -86.653831],  [32.376147, -86.655597],  [32.357264, -86.676426],  [32.353395, -86.683537],  [32.360767, -86.711337],  [32.362887, -86.714118],  [32.367759, -86.715362],  [32.372059, -86.719028],  [32.375137, -86.719718],  [32.381468, -86.71898],  [32.391154, -86.719967],  [32.401287, -86.717209],  [32.404812, -86.720954],  [32.404497, -86.727181],  [32.39473, -86.737372],  [32.38935, -86.748514],  [32.389239, -86.757398],  [32.390697, -86.763543],  [32.394796, -86.771681],  [32.394601, -86.778365],  [32.390473, -86.782141],  [32.379472, -86.781243],  [32.370288, -86.782218],  [32.3686, -86.780447],  [32.340728, -86.773163],  [32.314611, -86.791073],  [32.308632, -86.798268],  [32.307574, -86.810802],  [32.30997, -86.816107],  [32.315007, -86.820273],  [32.33324, -86.820921],  [32.336799, -86.819706],  [32.345501, -86.809259],  [32.348593, -86.807438],  [32.354356, -86.807378],  [32.370821, -86.815399],  [32.378816, -86.827244],  [32.38964, -86.833644],  [32.398283, -86.842378],  [32.409725, -86.846149],  [32.415416, -86.845448],  [32.417067, -86.843781],  [32.420143, -86.836393],  [32.420749, -86.828082],  [32.422517, -86.825189],  [32.424725, -86.824394],  [32.428207, -86.828371],  [32.431787, -86.841522],  [32.438325, -86.849898],  [32.43837, -86.857201],  [32.440216, -86.859657],  [32.438691, -86.862424],  [32.439445, -86.864331],  [32.437548, -86.866016],  [32.438229, -86.866873],  [32.443638, -86.866323],  [32.450628, -86.85995],  [32.45835, -86.864415],  [32.458512, -86.86969],  [32.464951, -86.871169],  [32.468342, -86.869139],  [32.468632, -86.873112],  [32.472459, -86.87348],  [32.474294, -86.876902],  [32.478917, -86.877934],  [32.482227, -86.885158],  [32.483905, -86.879949],  [32.485736, -86.880499],  [32.486967, -86.87909],  [32.491065, -86.884316],  [32.492264, -86.882252],  [32.494048, -86.88313],  [32.495742, -86.882185],  [32.496211, -86.884287],  [32.499153, -86.885321],  [32.502974, -86.890581],  [32.510208, -86.889678],  [32.511485, -86.89172],  [32.513286, -86.890652],  [32.514904, -86.894621],  [32.521496, -86.895057],  [32.530473, -86.903818],  [32.532486, -86.90109],  [32.535856, -86.901943],  [32.536977, -86.906742],  [32.539962, -86.90604],  [32.540626, -86.903096],  [32.543522, -86.906688],  [32.551028, -86.903732],  [32.554071, -86.904732],  [32.556989, -86.899601],  [32.558883, -86.900499],  [32.566848, -86.897968],  [32.56931, -86.900151],  [32.574834, -86.901367],  [32.577446, -86.898707],  [32.583745, -86.903898],  [32.587096, -86.902917],  [32.588693, -86.905428],  [32.593096, -86.903894],  [32.597786, -86.906362],  [32.604352, -86.906648],  [32.606533, -86.908573],  [32.608148, -86.906004],  [32.608161, -86.909946],  [32.610508, -86.909501],  [32.611804, -86.912104],  [32.613598, -86.909652],  [32.617477, -86.909539],  [32.61945, -86.912303],  [32.623506, -86.91115],  [32.625051, -86.912822],  [32.627018, -86.91123],  [32.630367, -86.911128],  [32.632361, -86.912884],  [32.637354, -86.91378],  [32.63864, -86.916078],  [32.640458, -86.91592],  [32.643535, -86.918808],  [32.646813, -86.917639],  [32.648018, -86.913187],  [32.651638, -86.918413],  [32.654186, -86.918054],  [32.655785, -86.920876],  [32.657542, -86.921196], ];\n",
       "var line_1 = L.polyline(latLngs,{\n",
       "color: '#FF0000',\n",
       "weight: 5,\n",
       "\n",
       "});\n",
       "      \n",
       "      map.addLayer(line_1);\n",
       "      \n",
       "\n",
       "      \n",
       "\n",
       "      \n",
       "\n",
       "      \n",
       "\n",
       "\n",
       "\n",
       "   </script>\n",
       "\n",
       "</body>\" style=\"width: 650px; height: 500px; border: none\"></iframe>"
      ],
      "text/plain": [
       "<IPython.core.display.HTML object>"
      ]
     },
     "execution_count": 27,
     "metadata": {},
     "output_type": "execute_result"
    }
   ],
   "source": [
    "#http://nbviewer.ipython.org/url/ocefpaf.github.com/python4oceanographers/downloads/notebooks/2015-02-02-cartopy_folium_shapefile.ipynb\n",
    "#This function is created by Filipe Fernandes and found at the above link, used under CC:Attribution-ShareAlike. No modifications have been made.\n",
    "from IPython.display import IFrame, HTML\n",
    "\n",
    "def inline_map(m, width=650, height=500):\n",
    "    \"\"\"Takes a folium instance and embed HTML.\"\"\"\n",
    "    m._build_map()\n",
    "    srcdoc = m.HTML.replace('\"', '&quot;')\n",
    "    embed = HTML('<iframe srcdoc=\"{}\" '\n",
    "                 'style=\"width: {}px; height: {}px; '\n",
    "                 'border: none\"></iframe>'.format(srcdoc, width, height))\n",
    "    return embed\n",
    "inline_map(map_osm)"
   ]
  },
  {
   "cell_type": "markdown",
   "metadata": {},
   "source": [
    "Okay let's see how we did for this one example county. Note: our sampling is based on a random algorithm so everyone *should* have different plots. TODO: do this programmatically for every county. To be able to defend a project, you should be able to show with what degree this sampling is accurate."
   ]
  },
  {
   "cell_type": "code",
   "execution_count": 19,
   "metadata": {
    "collapsed": false
   },
   "outputs": [],
   "source": [
    "#blank dataframe\n",
    "samples = pd.DataFrame(columns=[x for x in range(num_of_samples)])"
   ]
  },
  {
   "cell_type": "code",
   "execution_count": 20,
   "metadata": {
    "collapsed": false
   },
   "outputs": [],
   "source": [
    "for idx, row in df.iterrows():\n",
    "    for x in range(num_of_samples):\n",
    "        sample =  (sampler(row, x))\n",
    "        samples.loc[idx,x] = (sample[0], sample[1])"
   ]
  },
  {
   "cell_type": "code",
   "execution_count": 21,
   "metadata": {
    "collapsed": false
   },
   "outputs": [
    {
     "name": "stdout",
     "output_type": "stream",
     "text": [
      "<class 'pandas.core.frame.DataFrame'>\n",
      "Int64Index: 3142 entries, 1001 to 56045\n",
      "Data columns (total 30 columns):\n",
      "0     3142 non-null object\n",
      "1     3142 non-null object\n",
      "2     3142 non-null object\n",
      "3     3142 non-null object\n",
      "4     3142 non-null object\n",
      "5     3142 non-null object\n",
      "6     3142 non-null object\n",
      "7     3142 non-null object\n",
      "8     3142 non-null object\n",
      "9     3142 non-null object\n",
      "10    3142 non-null object\n",
      "11    3142 non-null object\n",
      "12    3142 non-null object\n",
      "13    3142 non-null object\n",
      "14    3142 non-null object\n",
      "15    3142 non-null object\n",
      "16    3142 non-null object\n",
      "17    3142 non-null object\n",
      "18    3142 non-null object\n",
      "19    3142 non-null object\n",
      "20    3142 non-null object\n",
      "21    3142 non-null object\n",
      "22    3142 non-null object\n",
      "23    3142 non-null object\n",
      "24    3142 non-null object\n",
      "25    3142 non-null object\n",
      "26    3142 non-null object\n",
      "27    3142 non-null object\n",
      "28    3142 non-null object\n",
      "29    3142 non-null object\n",
      "dtypes: object(30)\n",
      "memory usage: 761.0+ KB\n"
     ]
    }
   ],
   "source": [
    "samples.info()"
   ]
  },
  {
   "cell_type": "code",
   "execution_count": 22,
   "metadata": {
    "collapsed": false
   },
   "outputs": [
    {
     "name": "stdout",
     "output_type": "stream",
     "text": [
      "latitude\tlongitude\n",
      "32.6204445504\t-86.6795908189\n",
      "32.4085616295\t-86.4941086329\n",
      "32.608673277\t-86.6928395465\n",
      "32.5145030899\t-86.5868497259\n",
      "32.5380456367\t-86.7590831844\n",
      "32.455646723\t-86.7855806395\n",
      "32.5262743633\t-86.8385755498\n",
      "32.3967903561\t-86.520606088\n",
      "32.3614765359\t-86.7193370017\n",
      "32.4674179964\t-86.772331912\n",
      "32.5733594568\t-86.7060882741\n",
      "32.6557583705\t-86.8253268223\n",
      "32.4791892698\t-86.7458344568\n",
      "32.3732478093\t-86.7988293671\n",
      "32.6322158238\t-86.5736009983\n",
      "32.6910721907\t-86.6530933638\n",
      "32.6675296439\t-86.5471035432\n",
      "32.6793009173\t-86.5073573605\n",
      "32.5498169101\t-86.5338548156\n",
      "32.5615881835\t-86.6265959086\n",
      "32.5027318165\t-86.4543624502\n",
      "32.4203329029\t-86.5603522708\n",
      "32.4909605432\t-86.6398446362\n",
      "32.7028434641\t-86.4808599053\n",
      "32.6439870971\t-86.4676111777\n",
      "32.4438754496\t-86.6133471811\n",
      "32.5851307302\t-86.8120780947\n",
      "32.3850190827\t-86.7325857292\n",
      "32.4321041762\t-86.6663420914\n",
      "32.5969020036\t-86.6000984535\n"
     ]
    }
   ],
   "source": [
    "print \"latitude\\tlongitude\"\n",
    "for x in samples.loc[1001]:\n",
    "    print \"{0}\\t{1}\".format(x[0], x[1])"
   ]
  },
  {
   "cell_type": "code",
   "execution_count": 23,
   "metadata": {
    "collapsed": true
   },
   "outputs": [],
   "source": [
    "#get the state abbreviation for later use\n",
    "samples['states'] = df.states"
   ]
  },
  {
   "cell_type": "code",
   "execution_count": 25,
   "metadata": {
    "collapsed": false
   },
   "outputs": [
    {
     "data": {
      "text/html": [
       "<div>\n",
       "<table border=\"1\" class=\"dataframe\">\n",
       "  <thead>\n",
       "    <tr style=\"text-align: right;\">\n",
       "      <th></th>\n",
       "      <th>0</th>\n",
       "      <th>1</th>\n",
       "      <th>2</th>\n",
       "      <th>3</th>\n",
       "      <th>4</th>\n",
       "      <th>5</th>\n",
       "      <th>6</th>\n",
       "      <th>7</th>\n",
       "      <th>8</th>\n",
       "      <th>9</th>\n",
       "      <th>...</th>\n",
       "      <th>21</th>\n",
       "      <th>22</th>\n",
       "      <th>23</th>\n",
       "      <th>24</th>\n",
       "      <th>25</th>\n",
       "      <th>26</th>\n",
       "      <th>27</th>\n",
       "      <th>28</th>\n",
       "      <th>29</th>\n",
       "      <th>states</th>\n",
       "    </tr>\n",
       "  </thead>\n",
       "  <tbody>\n",
       "    <tr>\n",
       "      <th>1001</th>\n",
       "      <td>(32.6204445504, -86.6795908189)</td>\n",
       "      <td>(32.4085616295, -86.4941086329)</td>\n",
       "      <td>(32.608673277, -86.6928395465)</td>\n",
       "      <td>(32.5145030899, -86.5868497259)</td>\n",
       "      <td>(32.5380456367, -86.7590831844)</td>\n",
       "      <td>(32.455646723, -86.7855806395)</td>\n",
       "      <td>(32.5262743633, -86.8385755498)</td>\n",
       "      <td>(32.3967903561, -86.520606088)</td>\n",
       "      <td>(32.3614765359, -86.7193370017)</td>\n",
       "      <td>(32.4674179964, -86.772331912)</td>\n",
       "      <td>...</td>\n",
       "      <td>(32.4203329029, -86.5603522708)</td>\n",
       "      <td>(32.4909605432, -86.6398446362)</td>\n",
       "      <td>(32.7028434641, -86.4808599053)</td>\n",
       "      <td>(32.6439870971, -86.4676111777)</td>\n",
       "      <td>(32.4438754496, -86.6133471811)</td>\n",
       "      <td>(32.5851307302, -86.8120780947)</td>\n",
       "      <td>(32.3850190827, -86.7325857292)</td>\n",
       "      <td>(32.4321041762, -86.6663420914)</td>\n",
       "      <td>(32.5969020036, -86.6000984535)</td>\n",
       "      <td>AL</td>\n",
       "    </tr>\n",
       "    <tr>\n",
       "      <th>1003</th>\n",
       "      <td>(30.803597046, -87.8220986981)</td>\n",
       "      <td>(30.4570873356, -87.3963211886)</td>\n",
       "      <td>(30.7843465066, -87.8525113774)</td>\n",
       "      <td>(30.6303421908, -87.6092099434)</td>\n",
       "      <td>(30.6688432697, -88.0045747737)</td>\n",
       "      <td>(30.5340894934, -88.0654001322)</td>\n",
       "      <td>(30.6495927303, -88.1870508492)</td>\n",
       "      <td>(30.4378367961, -87.4571465471)</td>\n",
       "      <td>(30.3800851777, -87.9133367359)</td>\n",
       "      <td>(30.5533400329, -88.0349874529)</td>\n",
       "      <td>...</td>\n",
       "      <td>(30.476337875, -87.5483845848)</td>\n",
       "      <td>(30.5918411119, -87.7308606604)</td>\n",
       "      <td>(30.9383508223, -87.3659085093)</td>\n",
       "      <td>(30.842098125, -87.3354958301)</td>\n",
       "      <td>(30.514838954, -87.6700353019)</td>\n",
       "      <td>(30.7458454276, -88.1262254907)</td>\n",
       "      <td>(30.4185862566, -87.9437494152)</td>\n",
       "      <td>(30.4955884145, -87.7916860189)</td>\n",
       "      <td>(30.7650959671, -87.6396226226)</td>\n",
       "      <td>AL</td>\n",
       "    </tr>\n",
       "    <tr>\n",
       "      <th>1005</th>\n",
       "      <td>(31.9779672831, -85.4516193499)</td>\n",
       "      <td>(31.7194530037, -85.1911333906)</td>\n",
       "      <td>(31.9636053787, -85.4702254898)</td>\n",
       "      <td>(31.8487101434, -85.3213763703)</td>\n",
       "      <td>(31.8774339522, -85.5632561895)</td>\n",
       "      <td>(31.7769006213, -85.6004684694)</td>\n",
       "      <td>(31.8630720478, -85.6748930292)</td>\n",
       "      <td>(31.7050910993, -85.2283456705)</td>\n",
       "      <td>(31.662005386, -85.5074377697)</td>\n",
       "      <td>(31.7912625257, -85.5818623295)</td>\n",
       "      <td>...</td>\n",
       "      <td>(31.7338149081, -85.2841640904)</td>\n",
       "      <td>(31.8199863346, -85.39580093)</td>\n",
       "      <td>(32.078500614, -85.1725272507)</td>\n",
       "      <td>(32.0066910919, -85.1539211108)</td>\n",
       "      <td>(31.7625387169, -85.3585886501)</td>\n",
       "      <td>(31.9348815698, -85.6376807493)</td>\n",
       "      <td>(31.6907291949, -85.5260439096)</td>\n",
       "      <td>(31.7481768125, -85.4330132099)</td>\n",
       "      <td>(31.9492434743, -85.3399825102)</td>\n",
       "      <td>AL</td>\n",
       "    </tr>\n",
       "    <tr>\n",
       "      <th>1007</th>\n",
       "      <td>(33.1062434578, -87.1573177178)</td>\n",
       "      <td>(32.8894023591, -86.988367298)</td>\n",
       "      <td>(33.0941967301, -87.169385605)</td>\n",
       "      <td>(32.9978229084, -87.0728425079)</td>\n",
       "      <td>(33.0219163639, -87.2297250406)</td>\n",
       "      <td>(32.9375892699, -87.2538608149)</td>\n",
       "      <td>(33.0098696361, -87.3021323634)</td>\n",
       "      <td>(32.8773556314, -87.0125030722)</td>\n",
       "      <td>(32.8412154483, -87.1935213792)</td>\n",
       "      <td>(32.9496359976, -87.2417929278)</td>\n",
       "      <td>...</td>\n",
       "      <td>(32.9014490868, -87.0487067336)</td>\n",
       "      <td>(32.973729453, -87.1211140564)</td>\n",
       "      <td>(33.1905705517, -86.9762994108)</td>\n",
       "      <td>(33.1303369132, -86.9642315237)</td>\n",
       "      <td>(32.9255425422, -87.0969782822)</td>\n",
       "      <td>(33.0701032747, -87.2779965892)</td>\n",
       "      <td>(32.8653089037, -87.2055892664)</td>\n",
       "      <td>(32.9134958145, -87.1452498307)</td>\n",
       "      <td>(33.0821500024, -87.084910395)</td>\n",
       "      <td>AL</td>\n",
       "    </tr>\n",
       "    <tr>\n",
       "      <th>1009</th>\n",
       "      <td>(34.0693069184, -86.5354236619)</td>\n",
       "      <td>(33.8486295143, -86.7091151554)</td>\n",
       "      <td>(34.0570470626, -86.5230171266)</td>\n",
       "      <td>(33.9589682163, -86.6222694086)</td>\n",
       "      <td>(33.9834879279, -86.4609844504)</td>\n",
       "      <td>(33.8976689374, -86.4361713799)</td>\n",
       "      <td>(33.9712280721, -86.3865452389)</td>\n",
       "      <td>(33.8363696585, -86.6843020849)</td>\n",
       "      <td>(33.7995900911, -86.4982040561)</td>\n",
       "      <td>(33.9099287932, -86.4485779151)</td>\n",
       "      <td>...</td>\n",
       "      <td>(33.86088937, -86.6470824791)</td>\n",
       "      <td>(33.9344485048, -86.5726432676)</td>\n",
       "      <td>(34.1551259089, -86.7215216906)</td>\n",
       "      <td>(34.09382663, -86.7339282259)</td>\n",
       "      <td>(33.8854090816, -86.5974563381)</td>\n",
       "      <td>(34.032527351, -86.4113583094)</td>\n",
       "      <td>(33.8241098027, -86.4857975209)</td>\n",
       "      <td>(33.8731492258, -86.5478301971)</td>\n",
       "      <td>(34.0447872068, -86.6098628734)</td>\n",
       "      <td>AL</td>\n",
       "    </tr>\n",
       "  </tbody>\n",
       "</table>\n",
       "<p>5 rows × 31 columns</p>\n",
       "</div>"
      ],
      "text/plain": [
       "                                    0                                1  \\\n",
       "1001  (32.6204445504, -86.6795908189)  (32.4085616295, -86.4941086329)   \n",
       "1003   (30.803597046, -87.8220986981)  (30.4570873356, -87.3963211886)   \n",
       "1005  (31.9779672831, -85.4516193499)  (31.7194530037, -85.1911333906)   \n",
       "1007  (33.1062434578, -87.1573177178)   (32.8894023591, -86.988367298)   \n",
       "1009  (34.0693069184, -86.5354236619)  (33.8486295143, -86.7091151554)   \n",
       "\n",
       "                                    2                                3  \\\n",
       "1001   (32.608673277, -86.6928395465)  (32.5145030899, -86.5868497259)   \n",
       "1003  (30.7843465066, -87.8525113774)  (30.6303421908, -87.6092099434)   \n",
       "1005  (31.9636053787, -85.4702254898)  (31.8487101434, -85.3213763703)   \n",
       "1007   (33.0941967301, -87.169385605)  (32.9978229084, -87.0728425079)   \n",
       "1009  (34.0570470626, -86.5230171266)  (33.9589682163, -86.6222694086)   \n",
       "\n",
       "                                    4                                5  \\\n",
       "1001  (32.5380456367, -86.7590831844)   (32.455646723, -86.7855806395)   \n",
       "1003  (30.6688432697, -88.0045747737)  (30.5340894934, -88.0654001322)   \n",
       "1005  (31.8774339522, -85.5632561895)  (31.7769006213, -85.6004684694)   \n",
       "1007  (33.0219163639, -87.2297250406)  (32.9375892699, -87.2538608149)   \n",
       "1009  (33.9834879279, -86.4609844504)  (33.8976689374, -86.4361713799)   \n",
       "\n",
       "                                    6                                7  \\\n",
       "1001  (32.5262743633, -86.8385755498)   (32.3967903561, -86.520606088)   \n",
       "1003  (30.6495927303, -88.1870508492)  (30.4378367961, -87.4571465471)   \n",
       "1005  (31.8630720478, -85.6748930292)  (31.7050910993, -85.2283456705)   \n",
       "1007  (33.0098696361, -87.3021323634)  (32.8773556314, -87.0125030722)   \n",
       "1009  (33.9712280721, -86.3865452389)  (33.8363696585, -86.6843020849)   \n",
       "\n",
       "                                    8                                9  ...    \\\n",
       "1001  (32.3614765359, -86.7193370017)   (32.4674179964, -86.772331912)  ...     \n",
       "1003  (30.3800851777, -87.9133367359)  (30.5533400329, -88.0349874529)  ...     \n",
       "1005   (31.662005386, -85.5074377697)  (31.7912625257, -85.5818623295)  ...     \n",
       "1007  (32.8412154483, -87.1935213792)  (32.9496359976, -87.2417929278)  ...     \n",
       "1009  (33.7995900911, -86.4982040561)  (33.9099287932, -86.4485779151)  ...     \n",
       "\n",
       "                                   21                               22  \\\n",
       "1001  (32.4203329029, -86.5603522708)  (32.4909605432, -86.6398446362)   \n",
       "1003   (30.476337875, -87.5483845848)  (30.5918411119, -87.7308606604)   \n",
       "1005  (31.7338149081, -85.2841640904)    (31.8199863346, -85.39580093)   \n",
       "1007  (32.9014490868, -87.0487067336)   (32.973729453, -87.1211140564)   \n",
       "1009    (33.86088937, -86.6470824791)  (33.9344485048, -86.5726432676)   \n",
       "\n",
       "                                   23                               24  \\\n",
       "1001  (32.7028434641, -86.4808599053)  (32.6439870971, -86.4676111777)   \n",
       "1003  (30.9383508223, -87.3659085093)   (30.842098125, -87.3354958301)   \n",
       "1005   (32.078500614, -85.1725272507)  (32.0066910919, -85.1539211108)   \n",
       "1007  (33.1905705517, -86.9762994108)  (33.1303369132, -86.9642315237)   \n",
       "1009  (34.1551259089, -86.7215216906)    (34.09382663, -86.7339282259)   \n",
       "\n",
       "                                   25                               26  \\\n",
       "1001  (32.4438754496, -86.6133471811)  (32.5851307302, -86.8120780947)   \n",
       "1003   (30.514838954, -87.6700353019)  (30.7458454276, -88.1262254907)   \n",
       "1005  (31.7625387169, -85.3585886501)  (31.9348815698, -85.6376807493)   \n",
       "1007  (32.9255425422, -87.0969782822)  (33.0701032747, -87.2779965892)   \n",
       "1009  (33.8854090816, -86.5974563381)   (34.032527351, -86.4113583094)   \n",
       "\n",
       "                                   27                               28  \\\n",
       "1001  (32.3850190827, -86.7325857292)  (32.4321041762, -86.6663420914)   \n",
       "1003  (30.4185862566, -87.9437494152)  (30.4955884145, -87.7916860189)   \n",
       "1005  (31.6907291949, -85.5260439096)  (31.7481768125, -85.4330132099)   \n",
       "1007  (32.8653089037, -87.2055892664)  (32.9134958145, -87.1452498307)   \n",
       "1009  (33.8241098027, -86.4857975209)  (33.8731492258, -86.5478301971)   \n",
       "\n",
       "                                   29 states  \n",
       "1001  (32.5969020036, -86.6000984535)     AL  \n",
       "1003  (30.7650959671, -87.6396226226)     AL  \n",
       "1005  (31.9492434743, -85.3399825102)     AL  \n",
       "1007   (33.0821500024, -87.084910395)     AL  \n",
       "1009  (34.0447872068, -86.6098628734)     AL  \n",
       "\n",
       "[5 rows x 31 columns]"
      ]
     },
     "execution_count": 25,
     "metadata": {},
     "output_type": "execute_result"
    }
   ],
   "source": [
    "samples.head()"
   ]
  },
  {
   "cell_type": "code",
   "execution_count": 24,
   "metadata": {
    "collapsed": false
   },
   "outputs": [],
   "source": [
    "samples.to_csv('csv/samples.csv')"
   ]
  },
  {
   "cell_type": "markdown",
   "metadata": {},
   "source": [
    "Now we have the samples, we can query those locations and begin to ask questions. Below, I will show you how to work with a few corporate APIs to pursue some questions.\n",
    "\n",
    "We can try this using the Uber and Yelp APIs [here](http://nbviewer.ipython.org/github/benlawson/intro-to-data/blob/master/sampler.ipynb?flush_cache=true)"
   ]
  },
  {
   "cell_type": "code",
   "execution_count": 1,
   "metadata": {
    "collapsed": false
   },
   "outputs": [
    {
     "data": {
      "text/html": [
       "<link href='http://fonts.googleapis.com/css?family=EB+Garamond' rel='stylesheet' type='text/css'>\n",
       "<link href='http://fonts.googleapis.com/css?family=Alegreya+Sans:100,300,400,500,700,800,900,100italic,300italic,400italic,500italic,700italic,800italic,900italic' rel='stylesheet' type='text/css'>\n",
       "<link href='http://fonts.googleapis.com/css?family=Source+Code+Pro:300,400' rel='stylesheet' type='text/css'>\n",
       "<style>\n",
       "    @font-face {\n",
       "        font-family: \"Computer Modern\";\n",
       "        src: url('http://mirrors.ctan.org/fonts/cm-unicode/fonts/otf/cmunss.otf');\n",
       "    }\n",
       "    .code_cell {\n",
       "        width: 105ex !important ;\n",
       "        margin-bottom: 15px !important;\n",
       "    }\n",
       "    div.cell {\n",
       "        margin-left: auto;\n",
       "        margin-right: auto;\n",
       "        width: 70%;\n",
       "    }    \n",
       "    div.cell.selected {\n",
       "        border: thin rgba(171, 171, 171, 0.5) dashed;\n",
       "    }\n",
       "    h1 {\n",
       "        font-family: 'Alegreya Sans', sans-serif;\n",
       "    }\n",
       "    h2 {\n",
       "        font-family: 'EB Garamond', serif;\n",
       "    }\n",
       "    h3 {\n",
       "        font-family: 'EB Garamond', serif;\n",
       "        margin-top:12px;\n",
       "        margin-bottom: 3px;\n",
       "    }\n",
       "    h4 {\n",
       "        font-family: 'EB Garamond', serif;\n",
       "    }\n",
       "    h5 {\n",
       "        font-family: 'Alegreya Sans', sans-serif;\n",
       "    }\n",
       "    div.text_cell_render {\n",
       "        font-family: 'EB Garamond',Computer Modern, \"Helvetica Neue\", Arial, Helvetica, Geneva, sans-serif;\n",
       "        line-height: 145%;\n",
       "        font-size: 140%;\n",
       "    }\n",
       "    div.input_area {\n",
       "        border-color: rgba(0,0,0,0.10) !important;\n",
       "        background: #fafafa;\n",
       "    }\n",
       "    .CodeMirror {\n",
       "            font-family: \"Source Code Pro\";\n",
       "            font-size: 90%;\n",
       "    }\n",
       "    .prompt {\n",
       "        display: None;\n",
       "    }\n",
       "    .output {\n",
       "        padding-left: 50px;\n",
       "        padding-top: 5px;\n",
       "    }\n",
       "    .output_wrapper {\n",
       "        padding-left: 5px;\n",
       "        padding-top: inherit;\n",
       "    }\n",
       "    div.output_scroll {\n",
       "        width: inherit;\n",
       "    }\n",
       "    .inner_cell {\n",
       "        padding-left: 5px;\n",
       "    }\n",
       "    .text_cell_render h1 {\n",
       "        font-weight: 200;\n",
       "        font-size: 50pt;\n",
       "        line-height: 100%;\n",
       "        color:#CD2305;\n",
       "        margin-bottom: 0.5em;\n",
       "        margin-top: 0.5em;\n",
       "        display: block;\n",
       "    }\n",
       "    .text_cell_render h5 {\n",
       "        font-weight: 300;\n",
       "        font-size: 16pt;\n",
       "        color: #CD2305;\n",
       "        font-style: italic;\n",
       "        margin-bottom: .5em;\n",
       "        margin-top: 0.5em;\n",
       "        display: block;\n",
       "    }\n",
       "    .warning {\n",
       "        color: rgb( 240, 20, 20 )\n",
       "        }  \n",
       "</style>\n",
       "<script>\n",
       "    MathJax.Hub.Config({\n",
       "                        TeX: {\n",
       "                           extensions: [\"AMSmath.js\"]\n",
       "                           },\n",
       "                tex2jax: {\n",
       "                    inlineMath: [ ['$','$'], [\"\\\\(\",\"\\\\)\"] ],\n",
       "                    displayMath: [ ['$$','$$'], [\"\\\\[\",\"\\\\]\"] ]\n",
       "                },\n",
       "                displayAlign: 'center', // Change this to 'center' to center equations.\n",
       "                \"HTML-CSS\": {\n",
       "                    styles: {'.MathJax_Display': {\"margin\": 4}}\n",
       "                }\n",
       "        });\n",
       "</script>"
      ],
      "text/plain": [
       "<IPython.core.display.HTML object>"
      ]
     },
     "execution_count": 1,
     "metadata": {},
     "output_type": "execute_result"
    }
   ],
   "source": [
    "# Code for setting the style of the notebook\n",
    "\n",
    "from IPython.core.display import HTML\n",
    "def css_styling():\n",
    "    styles = open(\"./theme/custom.css\", \"r\").read()\n",
    "    return HTML(styles)\n",
    "css_styling()"
   ]
  }
 ],
 "metadata": {
  "kernelspec": {
   "display_name": "Python 2",
   "language": "python",
   "name": "python2"
  },
  "language_info": {
   "codemirror_mode": {
    "name": "ipython",
    "version": 2
   },
   "file_extension": ".py",
   "mimetype": "text/x-python",
   "name": "python",
   "nbconvert_exporter": "python",
   "pygments_lexer": "ipython2",
   "version": "2.7.10"
  }
 },
 "nbformat": 4,
 "nbformat_minor": 0
}
